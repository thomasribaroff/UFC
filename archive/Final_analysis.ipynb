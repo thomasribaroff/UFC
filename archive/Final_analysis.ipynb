{
 "cells": [
  {
   "cell_type": "code",
   "execution_count": 201,
   "metadata": {},
   "outputs": [
    {
     "name": "stdout",
     "output_type": "stream",
     "text": [
      "The autoreload extension is already loaded. To reload it, use:\n",
      "  %reload_ext autoreload\n"
     ]
    }
   ],
   "source": [
    "import pandas as pd\n",
    "import numpy as np\n",
    "import statsmodels.stats as sms\n",
    "import seaborn as sns\n",
    "import matplotlib.pyplot as plt\n",
    "import time\n",
    "import scipy.stats as stats\n",
    "from sklearn.model_selection import train_test_split\n",
    "from sklearn.linear_model import LinearRegression\n",
    "from sklearn.model_selection import cross_validate\n",
    "import library as lib\n",
    "sns.set_style('darkgrid')\n",
    "%load_ext autoreload\n",
    "%autoreload 2"
   ]
  },
  {
   "cell_type": "code",
   "execution_count": 206,
   "metadata": {},
   "outputs": [
    {
     "data": {
      "text/html": [
       "<div>\n",
       "<style scoped>\n",
       "    .dataframe tbody tr th:only-of-type {\n",
       "        vertical-align: middle;\n",
       "    }\n",
       "\n",
       "    .dataframe tbody tr th {\n",
       "        vertical-align: top;\n",
       "    }\n",
       "\n",
       "    .dataframe thead th {\n",
       "        text-align: right;\n",
       "    }\n",
       "</style>\n",
       "<table border=\"1\" class=\"dataframe\">\n",
       "  <thead>\n",
       "    <tr style=\"text-align: right;\">\n",
       "      <th></th>\n",
       "      <th>newindex</th>\n",
       "      <th>Referee</th>\n",
       "      <th>date</th>\n",
       "      <th>location</th>\n",
       "      <th>title_bout</th>\n",
       "      <th>weight_class</th>\n",
       "      <th>no_of_rounds</th>\n",
       "      <th>last_round</th>\n",
       "      <th>last_round_time</th>\n",
       "      <th>Format</th>\n",
       "      <th>...</th>\n",
       "      <th>Height_cms</th>\n",
       "      <th>Reach_cms</th>\n",
       "      <th>Weight_lbs</th>\n",
       "      <th>age</th>\n",
       "      <th>stance__Open Stance</th>\n",
       "      <th>stance__Orthodox</th>\n",
       "      <th>stance__Sideways</th>\n",
       "      <th>stance__Southpaw</th>\n",
       "      <th>stance__Switch</th>\n",
       "      <th>TIMEmod</th>\n",
       "    </tr>\n",
       "  </thead>\n",
       "  <tbody>\n",
       "    <tr>\n",
       "      <td>0</td>\n",
       "      <td>Aaron PhillipsMatt Hobar2014-08-23</td>\n",
       "      <td>Kevin Nix</td>\n",
       "      <td>2014-08-23</td>\n",
       "      <td>Tulsa, Oklahoma, USA</td>\n",
       "      <td>False</td>\n",
       "      <td>Bantamweight</td>\n",
       "      <td>3</td>\n",
       "      <td>3</td>\n",
       "      <td>5:00</td>\n",
       "      <td>3 Rnd (5-5-5)</td>\n",
       "      <td>...</td>\n",
       "      <td>175.26</td>\n",
       "      <td>177.80</td>\n",
       "      <td>135.0</td>\n",
       "      <td>25.0</td>\n",
       "      <td>0</td>\n",
       "      <td>0</td>\n",
       "      <td>0</td>\n",
       "      <td>1</td>\n",
       "      <td>0</td>\n",
       "      <td>900</td>\n",
       "    </tr>\n",
       "    <tr>\n",
       "      <td>1</td>\n",
       "      <td>Aaron RileyJoe Brammer2010-05-29</td>\n",
       "      <td>Steve Mazzagatti</td>\n",
       "      <td>2010-05-29</td>\n",
       "      <td>Las Vegas, Nevada, USA</td>\n",
       "      <td>False</td>\n",
       "      <td>Lightweight</td>\n",
       "      <td>3</td>\n",
       "      <td>3</td>\n",
       "      <td>5:00</td>\n",
       "      <td>3 Rnd (5-5-5)</td>\n",
       "      <td>...</td>\n",
       "      <td>172.72</td>\n",
       "      <td>175.26</td>\n",
       "      <td>155.0</td>\n",
       "      <td>29.0</td>\n",
       "      <td>0</td>\n",
       "      <td>0</td>\n",
       "      <td>0</td>\n",
       "      <td>1</td>\n",
       "      <td>0</td>\n",
       "      <td>900</td>\n",
       "    </tr>\n",
       "    <tr>\n",
       "      <td>2</td>\n",
       "      <td>Aaron RileyJorge Gurgel2008-11-15</td>\n",
       "      <td>Mario Yamasaki</td>\n",
       "      <td>2008-11-15</td>\n",
       "      <td>Las Vegas, Nevada, USA</td>\n",
       "      <td>False</td>\n",
       "      <td>Lightweight</td>\n",
       "      <td>3</td>\n",
       "      <td>3</td>\n",
       "      <td>5:00</td>\n",
       "      <td>3 Rnd (5-5-5)</td>\n",
       "      <td>...</td>\n",
       "      <td>172.72</td>\n",
       "      <td>175.26</td>\n",
       "      <td>155.0</td>\n",
       "      <td>27.0</td>\n",
       "      <td>0</td>\n",
       "      <td>0</td>\n",
       "      <td>0</td>\n",
       "      <td>1</td>\n",
       "      <td>0</td>\n",
       "      <td>900</td>\n",
       "    </tr>\n",
       "    <tr>\n",
       "      <td>3</td>\n",
       "      <td>Aaron RileyJustin Salas2013-07-27</td>\n",
       "      <td>Randy Corley</td>\n",
       "      <td>2013-07-27</td>\n",
       "      <td>Seattle, Washington, USA</td>\n",
       "      <td>False</td>\n",
       "      <td>Lightweight</td>\n",
       "      <td>3</td>\n",
       "      <td>3</td>\n",
       "      <td>5:00</td>\n",
       "      <td>3 Rnd (5-5-5)</td>\n",
       "      <td>...</td>\n",
       "      <td>172.72</td>\n",
       "      <td>175.26</td>\n",
       "      <td>155.0</td>\n",
       "      <td>32.0</td>\n",
       "      <td>0</td>\n",
       "      <td>0</td>\n",
       "      <td>0</td>\n",
       "      <td>1</td>\n",
       "      <td>0</td>\n",
       "      <td>900</td>\n",
       "    </tr>\n",
       "    <tr>\n",
       "      <td>4</td>\n",
       "      <td>Aaron RileyShane Nelson2009-08-08</td>\n",
       "      <td>Kevin Mulhall</td>\n",
       "      <td>2009-08-08</td>\n",
       "      <td>Philadelphia, Pennsylvania, USA</td>\n",
       "      <td>False</td>\n",
       "      <td>Lightweight</td>\n",
       "      <td>3</td>\n",
       "      <td>3</td>\n",
       "      <td>5:00</td>\n",
       "      <td>3 Rnd (5-5-5)</td>\n",
       "      <td>...</td>\n",
       "      <td>172.72</td>\n",
       "      <td>175.26</td>\n",
       "      <td>155.0</td>\n",
       "      <td>28.0</td>\n",
       "      <td>0</td>\n",
       "      <td>0</td>\n",
       "      <td>0</td>\n",
       "      <td>1</td>\n",
       "      <td>0</td>\n",
       "      <td>900</td>\n",
       "    </tr>\n",
       "  </tbody>\n",
       "</table>\n",
       "<p>5 rows × 40 columns</p>\n",
       "</div>"
      ],
      "text/plain": [
       "                             newindex           Referee       date  \\\n",
       "0  Aaron PhillipsMatt Hobar2014-08-23         Kevin Nix 2014-08-23   \n",
       "1    Aaron RileyJoe Brammer2010-05-29  Steve Mazzagatti 2010-05-29   \n",
       "2   Aaron RileyJorge Gurgel2008-11-15    Mario Yamasaki 2008-11-15   \n",
       "3   Aaron RileyJustin Salas2013-07-27      Randy Corley 2013-07-27   \n",
       "4   Aaron RileyShane Nelson2009-08-08     Kevin Mulhall 2009-08-08   \n",
       "\n",
       "                          location  title_bout  weight_class  no_of_rounds  \\\n",
       "0             Tulsa, Oklahoma, USA       False  Bantamweight             3   \n",
       "1           Las Vegas, Nevada, USA       False   Lightweight             3   \n",
       "2           Las Vegas, Nevada, USA       False   Lightweight             3   \n",
       "3         Seattle, Washington, USA       False   Lightweight             3   \n",
       "4  Philadelphia, Pennsylvania, USA       False   Lightweight             3   \n",
       "\n",
       "   last_round last_round_time         Format  ... Height_cms  Reach_cms  \\\n",
       "0           3            5:00  3 Rnd (5-5-5)  ...     175.26     177.80   \n",
       "1           3            5:00  3 Rnd (5-5-5)  ...     172.72     175.26   \n",
       "2           3            5:00  3 Rnd (5-5-5)  ...     172.72     175.26   \n",
       "3           3            5:00  3 Rnd (5-5-5)  ...     172.72     175.26   \n",
       "4           3            5:00  3 Rnd (5-5-5)  ...     172.72     175.26   \n",
       "\n",
       "   Weight_lbs   age  stance__Open Stance  stance__Orthodox  stance__Sideways  \\\n",
       "0       135.0  25.0                    0                 0                 0   \n",
       "1       155.0  29.0                    0                 0                 0   \n",
       "2       155.0  27.0                    0                 0                 0   \n",
       "3       155.0  32.0                    0                 0                 0   \n",
       "4       155.0  28.0                    0                 0                 0   \n",
       "\n",
       "   stance__Southpaw  stance__Switch  TIMEmod  \n",
       "0                 1               0      900  \n",
       "1                 1               0      900  \n",
       "2                 1               0      900  \n",
       "3                 1               0      900  \n",
       "4                 1               0      900  \n",
       "\n",
       "[5 rows x 40 columns]"
      ]
     },
     "execution_count": 206,
     "metadata": {},
     "output_type": "execute_result"
    }
   ],
   "source": [
    "time_df = pd.read_pickle('time_predict.pkl')\n",
    "time_df.head()"
   ]
  },
  {
   "cell_type": "code",
   "execution_count": 207,
   "metadata": {},
   "outputs": [
    {
     "data": {
      "text/plain": [
       "900     4248\n",
       "1500     274\n",
       "600       72\n",
       "300       36\n",
       "480       36\n",
       "        ... \n",
       "633        2\n",
       "724        2\n",
       "601        2\n",
       "577        2\n",
       "1423       2\n",
       "Name: TIMEmod, Length: 834, dtype: int64"
      ]
     },
     "execution_count": 207,
     "metadata": {},
     "output_type": "execute_result"
    }
   ],
   "source": [
    "time_df.TIMEmod.value_counts()\n"
   ]
  },
  {
   "cell_type": "code",
   "execution_count": 208,
   "metadata": {},
   "outputs": [
    {
     "data": {
      "text/html": [
       "<div>\n",
       "<style scoped>\n",
       "    .dataframe tbody tr th:only-of-type {\n",
       "        vertical-align: middle;\n",
       "    }\n",
       "\n",
       "    .dataframe tbody tr th {\n",
       "        vertical-align: top;\n",
       "    }\n",
       "\n",
       "    .dataframe thead th {\n",
       "        text-align: right;\n",
       "    }\n",
       "</style>\n",
       "<table border=\"1\" class=\"dataframe\">\n",
       "  <thead>\n",
       "    <tr style=\"text-align: right;\">\n",
       "      <th></th>\n",
       "      <th>date</th>\n",
       "      <th>no_of_rounds</th>\n",
       "      <th>current_lose_streak</th>\n",
       "      <th>current_win_streak</th>\n",
       "      <th>draw</th>\n",
       "      <th>longest_win_streak</th>\n",
       "      <th>losses</th>\n",
       "      <th>total_rounds_fought</th>\n",
       "      <th>total_time_fought(seconds)</th>\n",
       "      <th>total_title_bouts</th>\n",
       "      <th>...</th>\n",
       "      <th>avg_SIG_STR_landed</th>\n",
       "      <th>avg_SIG_STR_pct</th>\n",
       "      <th>avg_SUB_ATT</th>\n",
       "      <th>avg_TD_att</th>\n",
       "      <th>avg_TD_landed</th>\n",
       "      <th>avg_TD_pct</th>\n",
       "      <th>avg_TOTAL_STR_att</th>\n",
       "      <th>avg_TOTAL_STR_landed</th>\n",
       "      <th>Red_win</th>\n",
       "      <th>Draw_win</th>\n",
       "    </tr>\n",
       "    <tr>\n",
       "      <th>newindex</th>\n",
       "      <th></th>\n",
       "      <th></th>\n",
       "      <th></th>\n",
       "      <th></th>\n",
       "      <th></th>\n",
       "      <th></th>\n",
       "      <th></th>\n",
       "      <th></th>\n",
       "      <th></th>\n",
       "      <th></th>\n",
       "      <th></th>\n",
       "      <th></th>\n",
       "      <th></th>\n",
       "      <th></th>\n",
       "      <th></th>\n",
       "      <th></th>\n",
       "      <th></th>\n",
       "      <th></th>\n",
       "      <th></th>\n",
       "      <th></th>\n",
       "      <th></th>\n",
       "    </tr>\n",
       "  </thead>\n",
       "  <tbody>\n",
       "    <tr>\n",
       "      <td>Aaron PhillipsMatt Hobar2014-08-23</td>\n",
       "      <td>2014-08-23</td>\n",
       "      <td>3</td>\n",
       "      <td>1.0</td>\n",
       "      <td>0.0</td>\n",
       "      <td>0.0</td>\n",
       "      <td>0.0</td>\n",
       "      <td>1.0</td>\n",
       "      <td>3.0</td>\n",
       "      <td>900.000000</td>\n",
       "      <td>0.0</td>\n",
       "      <td>...</td>\n",
       "      <td>18.0</td>\n",
       "      <td>0.450000</td>\n",
       "      <td>1.000000</td>\n",
       "      <td>0.000</td>\n",
       "      <td>0.000000</td>\n",
       "      <td>0.000000</td>\n",
       "      <td>137.000000</td>\n",
       "      <td>109.000</td>\n",
       "      <td>0</td>\n",
       "      <td>0</td>\n",
       "    </tr>\n",
       "    <tr>\n",
       "      <td>Aaron RileyJoe Brammer2010-05-29</td>\n",
       "      <td>2010-05-29</td>\n",
       "      <td>3</td>\n",
       "      <td>1.0</td>\n",
       "      <td>0.0</td>\n",
       "      <td>0.0</td>\n",
       "      <td>1.0</td>\n",
       "      <td>4.0</td>\n",
       "      <td>13.0</td>\n",
       "      <td>603.666667</td>\n",
       "      <td>0.0</td>\n",
       "      <td>...</td>\n",
       "      <td>38.5</td>\n",
       "      <td>0.381667</td>\n",
       "      <td>0.166667</td>\n",
       "      <td>2.500</td>\n",
       "      <td>0.833333</td>\n",
       "      <td>0.316667</td>\n",
       "      <td>130.833333</td>\n",
       "      <td>70.000</td>\n",
       "      <td>1</td>\n",
       "      <td>0</td>\n",
       "    </tr>\n",
       "    <tr>\n",
       "      <td>Aaron RileyJorge Gurgel2008-11-15</td>\n",
       "      <td>2008-11-15</td>\n",
       "      <td>3</td>\n",
       "      <td>2.0</td>\n",
       "      <td>0.0</td>\n",
       "      <td>0.0</td>\n",
       "      <td>0.0</td>\n",
       "      <td>2.0</td>\n",
       "      <td>4.0</td>\n",
       "      <td>600.000000</td>\n",
       "      <td>0.0</td>\n",
       "      <td>...</td>\n",
       "      <td>32.0</td>\n",
       "      <td>0.405000</td>\n",
       "      <td>0.500000</td>\n",
       "      <td>3.500</td>\n",
       "      <td>1.000000</td>\n",
       "      <td>0.250000</td>\n",
       "      <td>101.000000</td>\n",
       "      <td>55.000</td>\n",
       "      <td>1</td>\n",
       "      <td>0</td>\n",
       "    </tr>\n",
       "    <tr>\n",
       "      <td>Aaron RileyJustin Salas2013-07-27</td>\n",
       "      <td>2013-07-27</td>\n",
       "      <td>3</td>\n",
       "      <td>1.0</td>\n",
       "      <td>0.0</td>\n",
       "      <td>0.0</td>\n",
       "      <td>1.0</td>\n",
       "      <td>5.0</td>\n",
       "      <td>17.0</td>\n",
       "      <td>602.750000</td>\n",
       "      <td>0.0</td>\n",
       "      <td>...</td>\n",
       "      <td>36.0</td>\n",
       "      <td>0.368750</td>\n",
       "      <td>0.125000</td>\n",
       "      <td>2.875</td>\n",
       "      <td>1.000000</td>\n",
       "      <td>0.283750</td>\n",
       "      <td>127.250000</td>\n",
       "      <td>69.375</td>\n",
       "      <td>0</td>\n",
       "      <td>0</td>\n",
       "    </tr>\n",
       "    <tr>\n",
       "      <td>Aaron RileyShane Nelson2009-08-08</td>\n",
       "      <td>2009-08-08</td>\n",
       "      <td>3</td>\n",
       "      <td>1.0</td>\n",
       "      <td>0.0</td>\n",
       "      <td>0.0</td>\n",
       "      <td>1.0</td>\n",
       "      <td>3.0</td>\n",
       "      <td>8.0</td>\n",
       "      <td>536.000000</td>\n",
       "      <td>0.0</td>\n",
       "      <td>...</td>\n",
       "      <td>41.5</td>\n",
       "      <td>0.422500</td>\n",
       "      <td>0.250000</td>\n",
       "      <td>2.000</td>\n",
       "      <td>0.750000</td>\n",
       "      <td>0.375000</td>\n",
       "      <td>118.000000</td>\n",
       "      <td>61.750</td>\n",
       "      <td>1</td>\n",
       "      <td>0</td>\n",
       "    </tr>\n",
       "  </tbody>\n",
       "</table>\n",
       "<p>5 rows × 54 columns</p>\n",
       "</div>"
      ],
      "text/plain": [
       "                                         date  no_of_rounds  \\\n",
       "newindex                                                      \n",
       "Aaron PhillipsMatt Hobar2014-08-23 2014-08-23             3   \n",
       "Aaron RileyJoe Brammer2010-05-29   2010-05-29             3   \n",
       "Aaron RileyJorge Gurgel2008-11-15  2008-11-15             3   \n",
       "Aaron RileyJustin Salas2013-07-27  2013-07-27             3   \n",
       "Aaron RileyShane Nelson2009-08-08  2009-08-08             3   \n",
       "\n",
       "                                    current_lose_streak  current_win_streak  \\\n",
       "newindex                                                                      \n",
       "Aaron PhillipsMatt Hobar2014-08-23                  1.0                 0.0   \n",
       "Aaron RileyJoe Brammer2010-05-29                    1.0                 0.0   \n",
       "Aaron RileyJorge Gurgel2008-11-15                   2.0                 0.0   \n",
       "Aaron RileyJustin Salas2013-07-27                   1.0                 0.0   \n",
       "Aaron RileyShane Nelson2009-08-08                   1.0                 0.0   \n",
       "\n",
       "                                    draw  longest_win_streak  losses  \\\n",
       "newindex                                                               \n",
       "Aaron PhillipsMatt Hobar2014-08-23   0.0                 0.0     1.0   \n",
       "Aaron RileyJoe Brammer2010-05-29     0.0                 1.0     4.0   \n",
       "Aaron RileyJorge Gurgel2008-11-15    0.0                 0.0     2.0   \n",
       "Aaron RileyJustin Salas2013-07-27    0.0                 1.0     5.0   \n",
       "Aaron RileyShane Nelson2009-08-08    0.0                 1.0     3.0   \n",
       "\n",
       "                                    total_rounds_fought  \\\n",
       "newindex                                                  \n",
       "Aaron PhillipsMatt Hobar2014-08-23                  3.0   \n",
       "Aaron RileyJoe Brammer2010-05-29                   13.0   \n",
       "Aaron RileyJorge Gurgel2008-11-15                   4.0   \n",
       "Aaron RileyJustin Salas2013-07-27                  17.0   \n",
       "Aaron RileyShane Nelson2009-08-08                   8.0   \n",
       "\n",
       "                                    total_time_fought(seconds)  \\\n",
       "newindex                                                         \n",
       "Aaron PhillipsMatt Hobar2014-08-23                  900.000000   \n",
       "Aaron RileyJoe Brammer2010-05-29                    603.666667   \n",
       "Aaron RileyJorge Gurgel2008-11-15                   600.000000   \n",
       "Aaron RileyJustin Salas2013-07-27                   602.750000   \n",
       "Aaron RileyShane Nelson2009-08-08                   536.000000   \n",
       "\n",
       "                                    total_title_bouts  ...  \\\n",
       "newindex                                               ...   \n",
       "Aaron PhillipsMatt Hobar2014-08-23                0.0  ...   \n",
       "Aaron RileyJoe Brammer2010-05-29                  0.0  ...   \n",
       "Aaron RileyJorge Gurgel2008-11-15                 0.0  ...   \n",
       "Aaron RileyJustin Salas2013-07-27                 0.0  ...   \n",
       "Aaron RileyShane Nelson2009-08-08                 0.0  ...   \n",
       "\n",
       "                                    avg_SIG_STR_landed  avg_SIG_STR_pct  \\\n",
       "newindex                                                                  \n",
       "Aaron PhillipsMatt Hobar2014-08-23                18.0         0.450000   \n",
       "Aaron RileyJoe Brammer2010-05-29                  38.5         0.381667   \n",
       "Aaron RileyJorge Gurgel2008-11-15                 32.0         0.405000   \n",
       "Aaron RileyJustin Salas2013-07-27                 36.0         0.368750   \n",
       "Aaron RileyShane Nelson2009-08-08                 41.5         0.422500   \n",
       "\n",
       "                                    avg_SUB_ATT  avg_TD_att  avg_TD_landed  \\\n",
       "newindex                                                                     \n",
       "Aaron PhillipsMatt Hobar2014-08-23     1.000000       0.000       0.000000   \n",
       "Aaron RileyJoe Brammer2010-05-29       0.166667       2.500       0.833333   \n",
       "Aaron RileyJorge Gurgel2008-11-15      0.500000       3.500       1.000000   \n",
       "Aaron RileyJustin Salas2013-07-27      0.125000       2.875       1.000000   \n",
       "Aaron RileyShane Nelson2009-08-08      0.250000       2.000       0.750000   \n",
       "\n",
       "                                    avg_TD_pct  avg_TOTAL_STR_att  \\\n",
       "newindex                                                            \n",
       "Aaron PhillipsMatt Hobar2014-08-23    0.000000         137.000000   \n",
       "Aaron RileyJoe Brammer2010-05-29      0.316667         130.833333   \n",
       "Aaron RileyJorge Gurgel2008-11-15     0.250000         101.000000   \n",
       "Aaron RileyJustin Salas2013-07-27     0.283750         127.250000   \n",
       "Aaron RileyShane Nelson2009-08-08     0.375000         118.000000   \n",
       "\n",
       "                                    avg_TOTAL_STR_landed  Red_win  Draw_win  \n",
       "newindex                                                                     \n",
       "Aaron PhillipsMatt Hobar2014-08-23               109.000        0         0  \n",
       "Aaron RileyJoe Brammer2010-05-29                  70.000        1         0  \n",
       "Aaron RileyJorge Gurgel2008-11-15                 55.000        1         0  \n",
       "Aaron RileyJustin Salas2013-07-27                 69.375        0         0  \n",
       "Aaron RileyShane Nelson2009-08-08                 61.750        1         0  \n",
       "\n",
       "[5 rows x 54 columns]"
      ]
     },
     "execution_count": 208,
     "metadata": {},
     "output_type": "execute_result"
    }
   ],
   "source": [
    "fstat_df = pd.read_pickle('post2001_norm_str_pct.pkl')\n",
    "fstat_df.head()"
   ]
  },
  {
   "cell_type": "code",
   "execution_count": 209,
   "metadata": {},
   "outputs": [
    {
     "data": {
      "text/plain": [
       "7712"
      ]
     },
     "execution_count": 209,
     "metadata": {},
     "output_type": "execute_result"
    }
   ],
   "source": [
    "len(fstat_df)"
   ]
  },
  {
   "cell_type": "code",
   "execution_count": 210,
   "metadata": {},
   "outputs": [
    {
     "data": {
      "text/plain": [
       "10292"
      ]
     },
     "execution_count": 210,
     "metadata": {},
     "output_type": "execute_result"
    }
   ],
   "source": [
    "len(time_df)"
   ]
  },
  {
   "cell_type": "code",
   "execution_count": 244,
   "metadata": {},
   "outputs": [],
   "source": [
    "time_df.loc[time_df.age.isna(), 'age'] = time_df.age.median()"
   ]
  },
  {
   "cell_type": "code",
   "execution_count": 222,
   "metadata": {},
   "outputs": [
    {
     "name": "stdout",
     "output_type": "stream",
     "text": [
      "0 newindex\n",
      "1 Referee\n",
      "2 date\n",
      "3 location\n",
      "4 title_bout\n",
      "5 weight_class\n",
      "6 no_of_rounds\n",
      "7 last_round\n",
      "8 last_round_time\n",
      "9 Format\n",
      "10 Fight_type\n",
      "11 Draw\n",
      "12 Red\n",
      "13 fighter\n",
      "14 current_lose_streak\n",
      "15 current_win_streak\n",
      "16 draw\n",
      "17 longest_win_streak\n",
      "18 losses\n",
      "19 total_rounds_fought\n",
      "20 total_time_fought(seconds)\n",
      "21 total_title_bouts\n",
      "22 win_by_Decision_Majority\n",
      "23 win_by_Decision_Split\n",
      "24 win_by_Decision_Unanimous\n",
      "25 win_by_KO/TKO\n",
      "26 win_by_Submission\n",
      "27 win_by_TKO_Doctor_Stoppage\n",
      "28 wins\n",
      "29 Stance\n",
      "30 Height_cms\n",
      "31 Reach_cms\n",
      "32 Weight_lbs\n",
      "33 age\n",
      "34 stance__Open Stance\n",
      "35 stance__Orthodox\n",
      "36 stance__Sideways\n",
      "37 stance__Southpaw\n",
      "38 stance__Switch\n",
      "39 TIMEmod\n"
     ]
    }
   ],
   "source": [
    "for i, c in enumerate(time_df.columns):\n",
    "    print(i,c)"
   ]
  },
  {
   "cell_type": "code",
   "execution_count": 245,
   "metadata": {},
   "outputs": [
    {
     "name": "stderr",
     "output_type": "stream",
     "text": [
      "/Users/flatironschool/anaconda3/envs/learn-env/lib/python3.6/site-packages/pandas/core/frame.py:4102: SettingWithCopyWarning: \n",
      "A value is trying to be set on a copy of a slice from a DataFrame\n",
      "\n",
      "See the caveats in the documentation: http://pandas.pydata.org/pandas-docs/stable/user_guide/indexing.html#returning-a-view-versus-a-copy\n",
      "  errors=errors,\n"
     ]
    }
   ],
   "source": [
    "xtime_df = time_df[time_df.columns[11:39]]\n",
    "ytime_df = time_df[time_df.columns[39]]\n",
    "xtime_df.drop(columns=['fighter', 'total_rounds_fought', 'total_time_fought(seconds)', 'Stance'], inplace=True)\n"
   ]
  },
  {
   "cell_type": "code",
   "execution_count": 246,
   "metadata": {},
   "outputs": [
    {
     "data": {
      "text/plain": [
       "0    900\n",
       "1    900\n",
       "2    900\n",
       "3    900\n",
       "4    900\n",
       "Name: TIMEmod, dtype: int64"
      ]
     },
     "execution_count": 246,
     "metadata": {},
     "output_type": "execute_result"
    }
   ],
   "source": [
    "ytime_df.head()"
   ]
  },
  {
   "cell_type": "code",
   "execution_count": 247,
   "metadata": {},
   "outputs": [
    {
     "data": {
      "text/plain": [
       "<matplotlib.axes._subplots.AxesSubplot at 0x1a2d990470>"
      ]
     },
     "execution_count": 247,
     "metadata": {},
     "output_type": "execute_result"
    },
    {
     "data": {
      "image/png": "[encoded data removed]",
      "text/plain": [
       "<Figure size 432x288 with 1 Axes>"
      ]
     },
     "metadata": {},
     "output_type": "display_data"
    }
   ],
   "source": [
    "sns.distplot(ytime_df)"
   ]
  },
  {
   "cell_type": "code",
   "execution_count": 248,
   "metadata": {
    "scrolled": true
   },
   "outputs": [],
   "source": [
    "x_train, x_test, y_train, y_test = train_test_split(xtime_df, ytime_df, test_size=.2, random_state=42)\n"
   ]
  },
  {
   "cell_type": "code",
   "execution_count": 251,
   "metadata": {
    "scrolled": true
   },
   "outputs": [
    {
     "name": "stderr",
     "output_type": "stream",
     "text": [
      "[autoreload of library failed: Traceback (most recent call last):\n",
      "  File \"/Users/flatironschool/anaconda3/envs/learn-env/lib/python3.6/site-packages/IPython/extensions/autoreload.py\", line 245, in check\n",
      "    superreload(m, reload, self.old_objects)\n",
      "  File \"/Users/flatironschool/anaconda3/envs/learn-env/lib/python3.6/site-packages/IPython/extensions/autoreload.py\", line 450, in superreload\n",
      "    update_generic(old_obj, new_obj)\n",
      "  File \"/Users/flatironschool/anaconda3/envs/learn-env/lib/python3.6/site-packages/IPython/extensions/autoreload.py\", line 387, in update_generic\n",
      "    update(a, b)\n",
      "  File \"/Users/flatironschool/anaconda3/envs/learn-env/lib/python3.6/site-packages/IPython/extensions/autoreload.py\", line 357, in update_class\n",
      "    update_instances(old, new)\n",
      "  File \"/Users/flatironschool/anaconda3/envs/learn-env/lib/python3.6/site-packages/IPython/extensions/autoreload.py\", line 317, in update_instances\n",
      "    update_instances(old, new, obj, visited)\n",
      "  File \"/Users/flatironschool/anaconda3/envs/learn-env/lib/python3.6/site-packages/IPython/extensions/autoreload.py\", line 317, in update_instances\n",
      "    update_instances(old, new, obj, visited)\n",
      "  File \"/Users/flatironschool/anaconda3/envs/learn-env/lib/python3.6/site-packages/IPython/extensions/autoreload.py\", line 315, in update_instances\n",
      "    if hasattr(obj, 'items') or (hasattr(obj, '__contains__')\n",
      "KeyboardInterrupt\n",
      "]\n"
     ]
    },
    {
     "data": {
      "text/plain": [
       "<matplotlib.axes._subplots.AxesSubplot at 0x1a2c9d2048>"
      ]
     },
     "execution_count": 251,
     "metadata": {},
     "output_type": "execute_result"
    },
    {
     "data": {
      "image/png": "[encoded data removed]",
      "text/plain": [
       "<Figure size 432x288 with 1 Axes>"
      ]
     },
     "metadata": {},
     "output_type": "display_data"
    }
   ],
   "source": [
    "sns.distplot(y_train)"
   ]
  },
  {
   "cell_type": "code",
   "execution_count": 253,
   "metadata": {
    "scrolled": false
   },
   "outputs": [
    {
     "name": "stderr",
     "output_type": "stream",
     "text": [
      "/Users/flatironschool/Desktop/Io/mod4proj/UFC-Fight-Duration-Analysis/library.py:78: UserWarning: With alpha=0, this algorithm does not converge well. You are advised to use the LinearRegression estimator\n",
      "  fit = lasso_reg.fit(x_poly_train, y_train)\n",
      "/Users/flatironschool/anaconda3/envs/learn-env/lib/python3.6/site-packages/sklearn/linear_model/coordinate_descent.py:475: UserWarning: Coordinate descent with no regularization may lead to unexpected results and is discouraged.\n",
      "  positive)\n",
      "/Users/flatironschool/anaconda3/envs/learn-env/lib/python3.6/site-packages/sklearn/linear_model/coordinate_descent.py:475: ConvergenceWarning: Objective did not converge. You might want to increase the number of iterations. Duality gap: 495130606.10185707, tolerance: 106907.29417320534\n",
      "  positive)\n",
      "/Users/flatironschool/anaconda3/envs/learn-env/lib/python3.6/site-packages/sklearn/model_selection/_validation.py:514: UserWarning: With alpha=0, this algorithm does not converge well. You are advised to use the LinearRegression estimator\n",
      "  estimator.fit(X_train, y_train, **fit_params)\n",
      "/Users/flatironschool/anaconda3/envs/learn-env/lib/python3.6/site-packages/sklearn/linear_model/coordinate_descent.py:475: UserWarning: Coordinate descent with no regularization may lead to unexpected results and is discouraged.\n",
      "  positive)\n",
      "/Users/flatironschool/anaconda3/envs/learn-env/lib/python3.6/site-packages/sklearn/linear_model/coordinate_descent.py:475: ConvergenceWarning: Objective did not converge. You might want to increase the number of iterations. Duality gap: 249715554.93888205, tolerance: 54250.61549854226\n",
      "  positive)\n",
      "/Users/flatironschool/anaconda3/envs/learn-env/lib/python3.6/site-packages/sklearn/model_selection/_validation.py:514: UserWarning: With alpha=0, this algorithm does not converge well. You are advised to use the LinearRegression estimator\n",
      "  estimator.fit(X_train, y_train, **fit_params)\n",
      "/Users/flatironschool/anaconda3/envs/learn-env/lib/python3.6/site-packages/sklearn/linear_model/coordinate_descent.py:475: UserWarning: Coordinate descent with no regularization may lead to unexpected results and is discouraged.\n",
      "  positive)\n"
     ]
    },
    {
     "name": "stdout",
     "output_type": "stream",
     "text": [
      "The R-2 for a model with with a Polynomial Order of 1 and a Lasso Alpha of 0 is 0.055.\n",
      "  Function returns a tuple indexed as follows:  \n",
      "  0 - Sklearn lasso-regression object  \n",
      "  1 - training X data (np array) \n",
      " 2 - testing X data (np array) \n"
     ]
    },
    {
     "name": "stderr",
     "output_type": "stream",
     "text": [
      "/Users/flatironschool/anaconda3/envs/learn-env/lib/python3.6/site-packages/sklearn/linear_model/coordinate_descent.py:475: ConvergenceWarning: Objective did not converge. You might want to increase the number of iterations. Duality gap: 243810101.52122527, tolerance: 52598.86319844547\n",
      "  positive)\n"
     ]
    }
   ],
   "source": [
    "lib.modeling(x_train, x_test, y_train, y_test, lasso_alpha=0);"
   ]
  },
  {
   "cell_type": "code",
   "execution_count": null,
   "metadata": {},
   "outputs": [],
   "source": []
  },
  {
   "cell_type": "code",
   "execution_count": 268,
   "metadata": {},
   "outputs": [
    {
     "name": "stdout",
     "output_type": "stream",
     "text": [
      "The R-2 for a LASSO Least Angle Regression model with with a Polynomial Order of 1 is 0.053075335276100866.\n",
      " The model with the lowest AIC of 7758.227384650871 has a LASSO alpha of 2.92591081501784 \n",
      " Function returns a tuple indexed as follows: \n",
      " 0 - Sklearn lasso-regression object  \n",
      "  1 - training X data (np array) \n",
      " 2 - testing X data (np array)  \n",
      " 3  -  Model results table (pandas DataFrame obj \n"
     ]
    }
   ],
   "source": [
    "poly1_larsic_time = lib.modeling(x_train, x_test, y_train, y_test, lars_ic=True, kfold=True, k_n_splits=5);"
   ]
  },
  {
   "cell_type": "code",
   "execution_count": 269,
   "metadata": {},
   "outputs": [
    {
     "data": {
      "text/plain": [
       "<matplotlib.axes._subplots.AxesSubplot at 0x1a2be7aeb8>"
      ]
     },
     "execution_count": 269,
     "metadata": {},
     "output_type": "execute_result"
    },
    {
     "data": {
      "image/png": "[encoded data removed]",
      "text/plain": [
       "<Figure size 720x720 with 1 Axes>"
      ]
     },
     "metadata": {},
     "output_type": "display_data"
    }
   ],
   "source": [
    "plt.figure(figsize=(10,10))\n",
    "sns.distplot(poly1_larsic_time[0].predict(poly1_larsic_time[2]))\n",
    "sns.distplot(y_test)\n"
   ]
  },
  {
   "cell_type": "code",
   "execution_count": 270,
   "metadata": {},
   "outputs": [
    {
     "name": "stdout",
     "output_type": "stream",
     "text": [
      "The R-2 for a LASSO Least Angle Regression model with with a Polynomial Order of 2 is 0.06163495208515235.\n",
      " The model with the lowest AIC of 7705.591066201889 has a LASSO alpha of 3.262066597951719 \n",
      " Function returns a tuple indexed as follows: \n",
      " 0 - Sklearn lasso-regression object  \n",
      "  1 - training X data (np array) \n",
      " 2 - testing X data (np array)  \n",
      " 3  -  Model results table (pandas DataFrame obj \n"
     ]
    }
   ],
   "source": [
    "poly2_larsic_time = lib.modeling(x_train, x_test, y_train, y_test, lars_ic=True, poly_order=2, kfold=True, k_n_splits=5)"
   ]
  },
  {
   "cell_type": "code",
   "execution_count": 271,
   "metadata": {},
   "outputs": [
    {
     "data": {
      "text/html": [
       "<div>\n",
       "<style scoped>\n",
       "    .dataframe tbody tr th:only-of-type {\n",
       "        vertical-align: middle;\n",
       "    }\n",
       "\n",
       "    .dataframe tbody tr th {\n",
       "        vertical-align: top;\n",
       "    }\n",
       "\n",
       "    .dataframe thead th {\n",
       "        text-align: right;\n",
       "    }\n",
       "</style>\n",
       "<table border=\"1\" class=\"dataframe\">\n",
       "  <thead>\n",
       "    <tr style=\"text-align: right;\">\n",
       "      <th></th>\n",
       "      <th>R2</th>\n",
       "      <th>AIC</th>\n",
       "      <th>Optimal_alpha</th>\n",
       "      <th>Mean_cvs</th>\n",
       "    </tr>\n",
       "  </thead>\n",
       "  <tbody>\n",
       "    <tr>\n",
       "      <td>TIME_polyO2_5ksplits</td>\n",
       "      <td>0.061635</td>\n",
       "      <td>7705.591066</td>\n",
       "      <td>3.262067</td>\n",
       "      <td>0.070936</td>\n",
       "    </tr>\n",
       "  </tbody>\n",
       "</table>\n",
       "</div>"
      ],
      "text/plain": [
       "                            R2          AIC  Optimal_alpha  Mean_cvs\n",
       "TIME_polyO2_5ksplits  0.061635  7705.591066       3.262067  0.070936"
      ]
     },
     "execution_count": 271,
     "metadata": {},
     "output_type": "execute_result"
    }
   ],
   "source": [
    "poly2_larsic_time[3]"
   ]
  },
  {
   "cell_type": "code",
   "execution_count": 272,
   "metadata": {},
   "outputs": [
    {
     "data": {
      "text/plain": [
       "<matplotlib.axes._subplots.AxesSubplot at 0x1a27938a20>"
      ]
     },
     "execution_count": 272,
     "metadata": {},
     "output_type": "execute_result"
    },
    {
     "data": {
      "image/png": "[encoded data removed]",
      "text/plain": [
       "<Figure size 720x720 with 1 Axes>"
      ]
     },
     "metadata": {},
     "output_type": "display_data"
    }
   ],
   "source": [
    "plt.figure(figsize=(10,10))\n",
    "sns.distplot(poly2_larsic_time[0].predict(poly2_larsic_time[2]))\n",
    "sns.distplot(y_test)"
   ]
  },
  {
   "cell_type": "code",
   "execution_count": 273,
   "metadata": {},
   "outputs": [
    {
     "name": "stdout",
     "output_type": "stream",
     "text": [
      "The R-2 for a LASSO Least Angle Regression model with with a Polynomial Order of 3 is 0.05446385926037989.\n",
      " The model with the lowest AIC of 7767.47791428194 has a LASSO alpha of 5.933678593069704 \n",
      " Function returns a tuple indexed as follows: \n",
      " 0 - Sklearn lasso-regression object  \n",
      "  1 - training X data (np array) \n",
      " 2 - testing X data (np array)  \n",
      " 3  -  Model results table (pandas DataFrame obj \n"
     ]
    }
   ],
   "source": [
    "poly3_larsic_time = lib.modeling(x_train, x_test, y_train, y_test, lars_ic=True, poly_order=3, kfold=True, k_n_splits=5)"
   ]
  },
  {
   "cell_type": "code",
   "execution_count": 274,
   "metadata": {},
   "outputs": [
    {
     "data": {
      "text/plain": [
       "<matplotlib.axes._subplots.AxesSubplot at 0x1ab7b9b2b0>"
      ]
     },
     "execution_count": 274,
     "metadata": {},
     "output_type": "execute_result"
    },
    {
     "data": {
      "image/png": "[encoded data removed]",
      "text/plain": [
       "<Figure size 720x720 with 1 Axes>"
      ]
     },
     "metadata": {},
     "output_type": "display_data"
    }
   ],
   "source": [
    "plt.figure(figsize=(10,10))\n",
    "sns.distplot(poly3_larsic_time[0].predict(poly3_larsic_time[2]))\n",
    "sns.distplot(y_test)"
   ]
  },
  {
   "cell_type": "code",
   "execution_count": 277,
   "metadata": {
    "scrolled": true
   },
   "outputs": [
    {
     "name": "stderr",
     "output_type": "stream",
     "text": [
      "[autoreload of library failed: Traceback (most recent call last):\n",
      "  File \"/Users/flatironschool/anaconda3/envs/learn-env/lib/python3.6/site-packages/IPython/extensions/autoreload.py\", line 245, in check\n",
      "    superreload(m, reload, self.old_objects)\n",
      "  File \"/Users/flatironschool/anaconda3/envs/learn-env/lib/python3.6/site-packages/IPython/extensions/autoreload.py\", line 450, in superreload\n",
      "    update_generic(old_obj, new_obj)\n",
      "  File \"/Users/flatironschool/anaconda3/envs/learn-env/lib/python3.6/site-packages/IPython/extensions/autoreload.py\", line 387, in update_generic\n",
      "    update(a, b)\n",
      "  File \"/Users/flatironschool/anaconda3/envs/learn-env/lib/python3.6/site-packages/IPython/extensions/autoreload.py\", line 357, in update_class\n",
      "    update_instances(old, new)\n",
      "  File \"/Users/flatironschool/anaconda3/envs/learn-env/lib/python3.6/site-packages/IPython/extensions/autoreload.py\", line 317, in update_instances\n",
      "    update_instances(old, new, obj, visited)\n",
      "  File \"/Users/flatironschool/anaconda3/envs/learn-env/lib/python3.6/site-packages/IPython/extensions/autoreload.py\", line 317, in update_instances\n",
      "    update_instances(old, new, obj, visited)\n",
      "  File \"/Users/flatironschool/anaconda3/envs/learn-env/lib/python3.6/site-packages/IPython/extensions/autoreload.py\", line 305, in update_instances\n",
      "    if type(obj) is old:\n",
      "KeyboardInterrupt\n",
      "]\n"
     ]
    },
    {
     "name": "stdout",
     "output_type": "stream",
     "text": [
      "The R-2 for a LASSO Least Angle Regression model with with a Polynomial Order of 2 is 0.06163495208515235.\n",
      " The model with the lowest AIC of 7705.591066201889 has a LASSO alpha of 3.262066597951719 \n",
      " Function returns a tuple indexed as follows: \n",
      " 0 - Sklearn lasso-regression object  \n",
      "  1 - training X data (np array) \n",
      " 2 - testing X data (np array)  \n",
      " 3  -  Model results table (pandas DataFrame obj \n"
     ]
    }
   ],
   "source": [
    "poly2_larsic_time_100k = lib.modeling(x_train, x_test, y_train, y_test, lars_ic=True, poly_order=2, iterations=100000, kfold=True, k_n_splits=5)"
   ]
  },
  {
   "cell_type": "code",
   "execution_count": 278,
   "metadata": {},
   "outputs": [
    {
     "data": {
      "text/plain": [
       "<matplotlib.axes._subplots.AxesSubplot at 0x1a2bdfc940>"
      ]
     },
     "execution_count": 278,
     "metadata": {},
     "output_type": "execute_result"
    },
    {
     "data": {
      "image/png": "[encoded data removed]",
      "text/plain": [
       "<Figure size 720x720 with 1 Axes>"
      ]
     },
     "metadata": {},
     "output_type": "display_data"
    }
   ],
   "source": [
    "plt.figure(figsize=(10,10))\n",
    "sns.distplot(poly2_larsic_time_100k[0].predict(poly2_larsic_time_100k[2]))\n",
    "sns.distplot(y_test)"
   ]
  },
  {
   "cell_type": "markdown",
   "metadata": {},
   "source": [
    "Having conducted our tests with the reduced-time data (finishing fights taken out), we will now run the same but with the finishing fights included. The data we're using will be the fight stat df, since it contains the majority of the data. "
   ]
  },
  {
   "cell_type": "code",
   "execution_count": 280,
   "metadata": {},
   "outputs": [],
   "source": [
    "modeling_T_df = pd.concat([poly1_larsic_time[3],poly2_larsic_time[3],poly3_larsic_time[3], poly2_larsic_time_100k[3]], axis=0)"
   ]
  },
  {
   "cell_type": "code",
   "execution_count": 281,
   "metadata": {},
   "outputs": [
    {
     "data": {
      "text/html": [
       "<div>\n",
       "<style scoped>\n",
       "    .dataframe tbody tr th:only-of-type {\n",
       "        vertical-align: middle;\n",
       "    }\n",
       "\n",
       "    .dataframe tbody tr th {\n",
       "        vertical-align: top;\n",
       "    }\n",
       "\n",
       "    .dataframe thead th {\n",
       "        text-align: right;\n",
       "    }\n",
       "</style>\n",
       "<table border=\"1\" class=\"dataframe\">\n",
       "  <thead>\n",
       "    <tr style=\"text-align: right;\">\n",
       "      <th></th>\n",
       "      <th>R2</th>\n",
       "      <th>AIC</th>\n",
       "      <th>Optimal_alpha</th>\n",
       "      <th>Mean_cvs</th>\n",
       "    </tr>\n",
       "  </thead>\n",
       "  <tbody>\n",
       "    <tr>\n",
       "      <td>TIME_polyO1_5ksplits</td>\n",
       "      <td>0.053075</td>\n",
       "      <td>7758.227385</td>\n",
       "      <td>2.925911</td>\n",
       "      <td>0.067724</td>\n",
       "    </tr>\n",
       "    <tr>\n",
       "      <td>TIME_polyO2_5ksplits</td>\n",
       "      <td>0.061635</td>\n",
       "      <td>7705.591066</td>\n",
       "      <td>3.262067</td>\n",
       "      <td>0.070936</td>\n",
       "    </tr>\n",
       "    <tr>\n",
       "      <td>TIME_polyO3_5ksplits</td>\n",
       "      <td>0.054464</td>\n",
       "      <td>7767.477914</td>\n",
       "      <td>5.933679</td>\n",
       "      <td>0.023647</td>\n",
       "    </tr>\n",
       "    <tr>\n",
       "      <td>TIME_polyO2_5ksplits</td>\n",
       "      <td>0.061635</td>\n",
       "      <td>7705.591066</td>\n",
       "      <td>3.262067</td>\n",
       "      <td>0.070936</td>\n",
       "    </tr>\n",
       "  </tbody>\n",
       "</table>\n",
       "</div>"
      ],
      "text/plain": [
       "                            R2          AIC  Optimal_alpha  Mean_cvs\n",
       "TIME_polyO1_5ksplits  0.053075  7758.227385       2.925911  0.067724\n",
       "TIME_polyO2_5ksplits  0.061635  7705.591066       3.262067  0.070936\n",
       "TIME_polyO3_5ksplits  0.054464  7767.477914       5.933679  0.023647\n",
       "TIME_polyO2_5ksplits  0.061635  7705.591066       3.262067  0.070936"
      ]
     },
     "execution_count": 281,
     "metadata": {},
     "output_type": "execute_result"
    }
   ],
   "source": [
    "modeling_T_df"
   ]
  },
  {
   "cell_type": "code",
   "execution_count": 297,
   "metadata": {},
   "outputs": [
    {
     "data": {
      "text/plain": [
       "newindex\n",
       "Aaron PhillipsMatt Hobar2014-08-23          900\n",
       "Aaron RileyJoe Brammer2010-05-29            900\n",
       "Aaron RileyJorge Gurgel2008-11-15           900\n",
       "Aaron RileyJustin Salas2013-07-27           900\n",
       "Aaron RileyShane Nelson2009-08-08           900\n",
       "                                           ... \n",
       "Zak CummingsNathan Coy2017-04-15            261\n",
       "Zak CummingsTrevin Giles2019-05-18          841\n",
       "Zhang LipengKajan Johnson2015-05-16         900\n",
       "Zubaira TukhugovErnest Chavez2014-10-04     261\n",
       "Zubaira TukhugovPhillipe Nover2015-12-10    900\n",
       "Name: TIMEmod, Length: 7712, dtype: int64"
      ]
     },
     "execution_count": 297,
     "metadata": {},
     "output_type": "execute_result"
    }
   ],
   "source": [
    "ystat_df"
   ]
  },
  {
   "cell_type": "code",
   "execution_count": 298,
   "metadata": {},
   "outputs": [],
   "source": [
    "xstat_df = fstat_df[fstat_df.columns[2:26]]\n",
    "ystat_df = fstat_df[fstat_df.columns[27]]\n",
    "xss_train, xss_test, yss_train, yss_test = train_test_split(xstat_df, ystat_df, test_size=.2, random_state=42)\n",
    "\n"
   ]
  },
  {
   "cell_type": "code",
   "execution_count": 299,
   "metadata": {},
   "outputs": [
    {
     "name": "stderr",
     "output_type": "stream",
     "text": [
      "/Users/flatironschool/Desktop/Io/mod4proj/UFC-Fight-Duration-Analysis/library.py:78: UserWarning: With alpha=0, this algorithm does not converge well. You are advised to use the LinearRegression estimator\n",
      "  fit = lasso_reg.fit(x_poly_train, y_train)\n",
      "/Users/flatironschool/anaconda3/envs/learn-env/lib/python3.6/site-packages/sklearn/linear_model/coordinate_descent.py:475: UserWarning: Coordinate descent with no regularization may lead to unexpected results and is discouraged.\n",
      "  positive)\n",
      "/Users/flatironschool/anaconda3/envs/learn-env/lib/python3.6/site-packages/sklearn/linear_model/coordinate_descent.py:475: ConvergenceWarning: Objective did not converge. You might want to increase the number of iterations. Duality gap: 376417779.4104693, tolerance: 80804.00684973253\n",
      "  positive)\n",
      "/Users/flatironschool/anaconda3/envs/learn-env/lib/python3.6/site-packages/sklearn/model_selection/_validation.py:514: UserWarning: With alpha=0, this algorithm does not converge well. You are advised to use the LinearRegression estimator\n",
      "  estimator.fit(X_train, y_train, **fit_params)\n",
      "/Users/flatironschool/anaconda3/envs/learn-env/lib/python3.6/site-packages/sklearn/linear_model/coordinate_descent.py:475: UserWarning: Coordinate descent with no regularization may lead to unexpected results and is discouraged.\n",
      "  positive)\n"
     ]
    },
    {
     "name": "stdout",
     "output_type": "stream",
     "text": [
      "The R-2 for a model with with a Polynomial Order of 1 and a Lasso Alpha of 0 is 0.047.\n",
      "  Function returns a tuple indexed as follows:  \n",
      "  0 - Sklearn lasso-regression object  \n",
      "  1 - training X data (np array) \n",
      " 2 - testing X data (np array) \n"
     ]
    },
    {
     "name": "stderr",
     "output_type": "stream",
     "text": [
      "/Users/flatironschool/anaconda3/envs/learn-env/lib/python3.6/site-packages/sklearn/linear_model/coordinate_descent.py:475: ConvergenceWarning: Objective did not converge. You might want to increase the number of iterations. Duality gap: 190909137.17748576, tolerance: 40520.56200298313\n",
      "  positive)\n",
      "/Users/flatironschool/anaconda3/envs/learn-env/lib/python3.6/site-packages/sklearn/model_selection/_validation.py:514: UserWarning: With alpha=0, this algorithm does not converge well. You are advised to use the LinearRegression estimator\n",
      "  estimator.fit(X_train, y_train, **fit_params)\n",
      "/Users/flatironschool/anaconda3/envs/learn-env/lib/python3.6/site-packages/sklearn/linear_model/coordinate_descent.py:475: UserWarning: Coordinate descent with no regularization may lead to unexpected results and is discouraged.\n",
      "  positive)\n",
      "/Users/flatironschool/anaconda3/envs/learn-env/lib/python3.6/site-packages/sklearn/linear_model/coordinate_descent.py:475: ConvergenceWarning: Objective did not converge. You might want to increase the number of iterations. Duality gap: 183606070.30511653, tolerance: 40279.85128505673\n",
      "  positive)\n"
     ]
    }
   ],
   "source": [
    "sig_str_baseline = lib.modeling(xss_train, xss_test, yss_train, yss_test, lasso_alpha=0)"
   ]
  },
  {
   "cell_type": "code",
   "execution_count": 300,
   "metadata": {},
   "outputs": [
    {
     "name": "stdout",
     "output_type": "stream",
     "text": [
      "The R-2 for a LASSO Least Angle Regression model with with a Polynomial Order of 1 is 0.046930529093824225.\n",
      " The model with the lowest AIC of 5856.083585958087 has a LASSO alpha of 0.01018621614610451 \n",
      " Function returns a tuple indexed as follows: \n",
      " 0 - Sklearn lasso-regression object  \n",
      "  1 - training X data (np array) \n",
      " 2 - testing X data (np array)  \n",
      " 3  -  Model results table (pandas DataFrame obj \n"
     ]
    }
   ],
   "source": [
    "poly1_larsic_ss1 = lib.modeling(xss_train, xss_test, yss_train, yss_test, lars_ic=True)"
   ]
  },
  {
   "cell_type": "code",
   "execution_count": 301,
   "metadata": {},
   "outputs": [
    {
     "name": "stdout",
     "output_type": "stream",
     "text": [
      "The R-2 for a LASSO Least Angle Regression model with with a Polynomial Order of 2 is 0.051053232067584275.\n",
      " The model with the lowest AIC of 5876.6900523545155 has a LASSO alpha of 4.541000770467158 \n",
      " Function returns a tuple indexed as follows: \n",
      " 0 - Sklearn lasso-regression object  \n",
      "  1 - training X data (np array) \n",
      " 2 - testing X data (np array)  \n",
      " 3  -  Model results table (pandas DataFrame obj \n"
     ]
    }
   ],
   "source": [
    "poly2_larsic_ss2 = lib.modeling(xss_train, xss_test, yss_train, yss_test, lars_ic=True, poly_order=2)"
   ]
  },
  {
   "cell_type": "code",
   "execution_count": 302,
   "metadata": {},
   "outputs": [
    {
     "name": "stderr",
     "output_type": "stream",
     "text": [
      "/Users/flatironschool/anaconda3/envs/learn-env/lib/python3.6/site-packages/sklearn/linear_model/least_angle.py:604: ConvergenceWarning: Early stopping the lars path, as the residues are small and the current value of alpha is no longer well controlled. 327 iterations, alpha=4.977e+00, previous alpha=4.968e+00, with an active set of 212 regressors.\n",
      "  ConvergenceWarning)\n"
     ]
    },
    {
     "name": "stdout",
     "output_type": "stream",
     "text": [
      "The R-2 for a LASSO Least Angle Regression model with with a Polynomial Order of 3 is 0.03754046867254113.\n",
      " The model with the lowest AIC of 5876.077417310332 has a LASSO alpha of 5.8526116710384 \n",
      " Function returns a tuple indexed as follows: \n",
      " 0 - Sklearn lasso-regression object  \n",
      "  1 - training X data (np array) \n",
      " 2 - testing X data (np array)  \n",
      " 3  -  Model results table (pandas DataFrame obj \n"
     ]
    }
   ],
   "source": [
    "poly2_larsic_ss3 = lib.modeling(xss_train, xss_test, yss_train, yss_test, lars_ic=True, poly_order=3)"
   ]
  },
  {
   "cell_type": "code",
   "execution_count": 303,
   "metadata": {},
   "outputs": [
    {
     "name": "stdout",
     "output_type": "stream",
     "text": [
      "The R-2 for a LASSO Least Angle Regression model with with a Polynomial Order of 2 is 0.051053232067584275.\n",
      " The model with the lowest AIC of 5876.6900523545155 has a LASSO alpha of 4.541000770467158 \n",
      " Function returns a tuple indexed as follows: \n",
      " 0 - Sklearn lasso-regression object  \n",
      "  1 - training X data (np array) \n",
      " 2 - testing X data (np array)  \n",
      " 3  -  Model results table (pandas DataFrame obj \n"
     ]
    }
   ],
   "source": [
    "poly2_larsic_ss2_100k = lib.modeling(xss_train, xss_test, yss_train, yss_test, lars_ic=True, poly_order=2, iterations=100000)"
   ]
  },
  {
   "cell_type": "code",
   "execution_count": null,
   "metadata": {},
   "outputs": [],
   "source": [
    "lib.modeling(xss_train, xss_test, yss_train, yss_test, lasso_alpha=0.5, lars_ic=False, poly_order=2, iterations=100000)"
   ]
  },
  {
   "cell_type": "markdown",
   "metadata": {},
   "source": [
    "Having tried our best .... we lay there, demotivated. A little vexed, a little sad, a little wiser perhaps.. but ultimately and joyously... alive!"
   ]
  },
  {
   "cell_type": "code",
   "execution_count": null,
   "metadata": {},
   "outputs": [],
   "source": [
    "time_predict_df = pd.read_pickle('time_predict.pkl')\n",
    "time_predict_df"
   ]
  },
  {
   "cell_type": "code",
   "execution_count": null,
   "metadata": {},
   "outputs": [],
   "source": [
    "time_pred_post_UFC21 = time_predict_df.loc[time_predict_df.date> '1999-07-17']\n",
    "time_pred_post_UFC21.set_index('newindex', inplace=True)\n",
    "\n",
    "time_pred = time_pred_post_UFC21.drop(columns=['Referee', 'date', 'no_of_rounds','last_round',\n",
    "                                               'location', 'title_bout', \n",
    "                                               'weight_class', 'Format', \n",
    "                                              'Stance', 'fighter', 'Fight_type',\n",
    "                                              'last_round_time', 'total_time_fought(seconds)'])"
   ]
  },
  {
   "cell_type": "code",
   "execution_count": null,
   "metadata": {},
   "outputs": [],
   "source": [
    "time_pred_post_UFC21.age.mean()"
   ]
  },
  {
   "cell_type": "code",
   "execution_count": null,
   "metadata": {
    "scrolled": true
   },
   "outputs": [],
   "source": [
    "time_pred_post_UFC21.loc[time_pred_post_UFC21.age.isna()]"
   ]
  },
  {
   "cell_type": "code",
   "execution_count": null,
   "metadata": {
    "scrolled": true
   },
   "outputs": [],
   "source": [
    "time_pred_post_UFC21.loc[time_pred_post_UFC21.age.isna(), 'age'] = time_pred_post_UFC21.age.median()\n"
   ]
  },
  {
   "cell_type": "code",
   "execution_count": null,
   "metadata": {},
   "outputs": [],
   "source": [
    "time_pred.loc[time_pred.age.isna(), 'age'] = time_pred.age.median()\n"
   ]
  },
  {
   "cell_type": "code",
   "execution_count": null,
   "metadata": {},
   "outputs": [],
   "source": [
    "time_pred.info()"
   ]
  },
  {
   "cell_type": "code",
   "execution_count": null,
   "metadata": {},
   "outputs": [],
   "source": [
    "len(time_pred_post_UFC21)"
   ]
  },
  {
   "cell_type": "code",
   "execution_count": null,
   "metadata": {},
   "outputs": [],
   "source": [
    "time_x = time_pred.drop(columns=['TIMEmod'])\n",
    "time_y = time_pred['TIMEmod']"
   ]
  },
  {
   "cell_type": "code",
   "execution_count": null,
   "metadata": {},
   "outputs": [],
   "source": [
    "time_x"
   ]
  },
  {
   "cell_type": "code",
   "execution_count": null,
   "metadata": {},
   "outputs": [],
   "source": [
    "time_y"
   ]
  },
  {
   "cell_type": "code",
   "execution_count": null,
   "metadata": {},
   "outputs": [],
   "source": [
    "\n",
    "x_train, x_test, y_train, y_test = train_test_split(time_x, time_y, test_size=.2, random_state=42)\n"
   ]
  },
  {
   "cell_type": "code",
   "execution_count": null,
   "metadata": {},
   "outputs": [],
   "source": [
    "time_pred_test1 = lib.modeling(x_train, x_test, y_train, y_test, lasso_alpha=0)"
   ]
  },
  {
   "cell_type": "code",
   "execution_count": null,
   "metadata": {},
   "outputs": [],
   "source": [
    "len(x_train)"
   ]
  },
  {
   "cell_type": "code",
   "execution_count": null,
   "metadata": {},
   "outputs": [],
   "source": [
    "len(y_train)"
   ]
  },
  {
   "cell_type": "code",
   "execution_count": null,
   "metadata": {
    "scrolled": true
   },
   "outputs": [],
   "source": [
    "y_train.head()"
   ]
  },
  {
   "cell_type": "code",
   "execution_count": null,
   "metadata": {},
   "outputs": [],
   "source": [
    "time_pred_test1[1]"
   ]
  },
  {
   "cell_type": "code",
   "execution_count": null,
   "metadata": {
    "scrolled": true
   },
   "outputs": [],
   "source": [
    "poly2_time_aic_pred_test = lib.modeling(x_train, x_test, y_train, y_test, poly_order=2, lars_ic=True)"
   ]
  },
  {
   "cell_type": "code",
   "execution_count": null,
   "metadata": {},
   "outputs": [],
   "source": [
    "poly3_time_aic_pred_test1 = lib.modeling(x_train, x_test, y_train, y_test, poly_order=3, lars_ic=True)"
   ]
  },
  {
   "cell_type": "code",
   "execution_count": null,
   "metadata": {
    "scrolled": true
   },
   "outputs": [],
   "source": [
    "poly2time_pred_test2 = lib.modeling(x_train, x_test, y_train, y_test,poly_order=2, lasso_alpha=0)"
   ]
  },
  {
   "cell_type": "code",
   "execution_count": null,
   "metadata": {
    "scrolled": true
   },
   "outputs": [],
   "source": [
    "poly2_time_aic_pred_test = lib.modeling(x_train, x_test, y_train, y_test, poly_order=2,iterations=1000000, lars_ic=True)"
   ]
  },
  {
   "cell_type": "code",
   "execution_count": null,
   "metadata": {},
   "outputs": [],
   "source": [
    "poly2_time_aic_pred_test = lib.modeling(x_train, x_test, y_train, y_test, poly_order=2,iterations=1000000, lars_ic=True)"
   ]
  },
  {
   "cell_type": "code",
   "execution_count": null,
   "metadata": {
    "scrolled": true
   },
   "outputs": [],
   "source": [
    "time_model_coefs = poly2_time_aic_pred_test[0].coef_\n",
    "time_model_coefs"
   ]
  },
  {
   "cell_type": "code",
   "execution_count": null,
   "metadata": {
    "scrolled": true
   },
   "outputs": [],
   "source": [
    "poly2_time_aic_pred_test[2]"
   ]
  },
  {
   "cell_type": "code",
   "execution_count": null,
   "metadata": {
    "scrolled": true
   },
   "outputs": [],
   "source": [
    "poly2_time_aic_pred_test[0].predict(x_test)\n",
    "\n",
    "\n"
   ]
  },
  {
   "cell_type": "code",
   "execution_count": null,
   "metadata": {},
   "outputs": [],
   "source": [
    "# hard coding some plots:\n",
    "from sklearn.preprocessing import PolynomialFeatures\n",
    "from sklearn.linear_model import Lasso\n",
    "from sklearn.linear_model import LassoLarsIC\n",
    "\n",
    "x_train_scaled, x_test_scaled = lib.scale_features(x_train, x_test)\n",
    "\n",
    "poly = PolynomialFeatures(2)\n",
    "x_poly_train = poly.fit_transform(x_train_scaled)\n",
    "x_poly_test = poly.transform(x_test_scaled)\n",
    "\n",
    "lars_poly = LassoLarsIC(\n",
    "            criterion='aic', \n",
    "            fit_intercept=True, \n",
    "            normalize=False,\n",
    "            max_iter=1000000,\n",
    "            \n",
    "        )\n",
    "fit = lars_poly.fit(x_poly_train, y_train)\n",
    "score = lars_poly.score(x_poly_test, y_test)\n",
    "aic_score = np.mean(lars_poly.criterion_)\n",
    "optimal_alpha = lars_poly.alpha_\n",
    "      \n"
   ]
  },
  {
   "cell_type": "code",
   "execution_count": null,
   "metadata": {},
   "outputs": [],
   "source": [
    "sns.distplot(lars_poly.predict(x_poly_test))\n",
    "sns.distplot(y_test)"
   ]
  },
  {
   "cell_type": "code",
   "execution_count": null,
   "metadata": {},
   "outputs": [],
   "source": [
    "y_hat = lars_poly.predict(x_poly_test)\n",
    "sns.jointplot(\n",
    "    x = y_test,\n",
    "    y = y_hat,\n",
    "    kind='kde',\n",
    "    color='#990628',\n",
    "    space=0\n",
    ")"
   ]
  },
  {
   "cell_type": "markdown",
   "metadata": {},
   "source": [
    "Above we have our final results for the various models we trained on the data for predicting fight duration. Below we've included our prediction of the percentage of successful, significant strikes per fighter "
   ]
  },
  {
   "cell_type": "code",
   "execution_count": 306,
   "metadata": {},
   "outputs": [
    {
     "data": {
      "text/plain": [
       "Index(['date', 'no_of_rounds', 'current_lose_streak', 'current_win_streak',\n",
       "       'draw', 'longest_win_streak', 'losses', 'total_rounds_fought',\n",
       "       'total_time_fought(seconds)', 'total_title_bouts',\n",
       "       'win_by_Decision_Majority', 'win_by_Decision_Split',\n",
       "       'win_by_Decision_Unanimous', 'win_by_KO/TKO', 'win_by_Submission',\n",
       "       'win_by_TKO_Doctor_Stoppage', 'wins', 'Height_cms', 'Reach_cms',\n",
       "       'Weight_lbs', 'age', 'stance__Open Stance', 'stance__Orthodox',\n",
       "       'stance__Sideways', 'stance__Southpaw', 'stance__Switch', 'TIME',\n",
       "       'TIMEmod', 'avg_BODY_att', 'avg_BODY_landed', 'avg_CLINCH_att',\n",
       "       'avg_CLINCH_landed', 'avg_DISTANCE_att', 'avg_DISTANCE_landed',\n",
       "       'avg_GROUND_att', 'avg_GROUND_landed', 'avg_HEAD_att',\n",
       "       'avg_HEAD_landed', 'avg_KD', 'avg_LEG_att', 'avg_LEG_landed',\n",
       "       'avg_PASS', 'avg_REV', 'avg_SIG_STR_att', 'avg_SIG_STR_landed',\n",
       "       'avg_SIG_STR_pct', 'avg_SUB_ATT', 'avg_TD_att', 'avg_TD_landed',\n",
       "       'avg_TD_pct', 'avg_TOTAL_STR_att', 'avg_TOTAL_STR_landed', 'Red_win',\n",
       "       'Draw_win'],\n",
       "      dtype='object')"
      ]
     },
     "execution_count": 306,
     "metadata": {},
     "output_type": "execute_result"
    }
   ],
   "source": [
    "\n",
    "fstat_df.columns"
   ]
  },
  {
   "cell_type": "code",
   "execution_count": null,
   "metadata": {},
   "outputs": [],
   "source": [
    "ystat_df.columns"
   ]
  },
  {
   "cell_type": "code",
   "execution_count": null,
   "metadata": {},
   "outputs": [],
   "source": [
    "fstat_df['avg_TOTAL_STR_landed_pct'] = fstat_df['avg_TOTAL_STR_landed']/fstat_df['avg_TOTAL_STR_att']"
   ]
  },
  {
   "cell_type": "code",
   "execution_count": null,
   "metadata": {
    "scrolled": true
   },
   "outputs": [],
   "source": [
    "xstat_df = fstat_df[fstat_df.columns[2:26]]\n",
    "ystat_df = fstat_df['avg_SIG_STR_pct']\n",
    "xstat_train, xstat_test, ystat_train, ystat_test = train_test_split(xstat_df, ystat_df, test_size=.2, random_state=42)\n",
    "\n",
    "fstat_poly1 = lib.modeling(xstat_train, xstat_test, ystat_train, ystat_test, lasso_alpha=0)"
   ]
  },
  {
   "cell_type": "code",
   "execution_count": 126,
   "metadata": {
    "scrolled": true
   },
   "outputs": [
    {
     "name": "stderr",
     "output_type": "stream",
     "text": [
      "/Users/flatironschool/Desktop/Io/mod4proj/UFC-Fight-Duration-Analysis/library.py:57: UserWarning: With alpha=0, this algorithm does not converge well. You are advised to use the LinearRegression estimator\n",
      "  fit = lasso_reg.fit(x_poly_train, y_train)\n",
      "/Users/flatironschool/anaconda3/envs/learn-env/lib/python3.6/site-packages/sklearn/linear_model/coordinate_descent.py:475: UserWarning: Coordinate descent with no regularization may lead to unexpected results and is discouraged.\n",
      "  positive)\n"
     ]
    },
    {
     "name": "stdout",
     "output_type": "stream",
     "text": [
      "The R-2 for a model with with a Polynomial Order of 2 and a Lasso Alpha of 0 is 0.2111.\n",
      "\n"
     ]
    },
    {
     "name": "stderr",
     "output_type": "stream",
     "text": [
      "/Users/flatironschool/anaconda3/envs/learn-env/lib/python3.6/site-packages/sklearn/linear_model/coordinate_descent.py:475: ConvergenceWarning: Objective did not converge. You might want to increase the number of iterations. Duality gap: 21.489473146319867, tolerance: 0.005550102393696854\n",
      "  positive)\n"
     ]
    }
   ],
   "source": [
    "fstat_poly2 = lib.modeling(xstat_train, xstat_test, ystat_train, ystat_test, poly_order=2, lasso_alpha=0)"
   ]
  },
  {
   "cell_type": "code",
   "execution_count": 127,
   "metadata": {
    "scrolled": true
   },
   "outputs": [
    {
     "name": "stdout",
     "output_type": "stream",
     "text": [
      "The R-2 for a LASSO Least Angle Regression model with with a Polynomial Order of 2 is 0.2063218855577036.\n",
      " The model with the lowest AIC of 5242.019930480519 has a LASSO alpha of 0.00017961761388468484\n"
     ]
    }
   ],
   "source": [
    "fstat_poly2 = lib.modeling(xstat_train, xstat_test, ystat_train, ystat_test, poly_order=2, lars_ic=True)"
   ]
  },
  {
   "cell_type": "code",
   "execution_count": 128,
   "metadata": {},
   "outputs": [
    {
     "name": "stderr",
     "output_type": "stream",
     "text": [
      "/Users/flatironschool/anaconda3/envs/learn-env/lib/python3.6/site-packages/sklearn/linear_model/least_angle.py:604: ConvergenceWarning: Early stopping the lars path, as the residues are small and the current value of alpha is no longer well controlled. 696 iterations, alpha=4.358e-04, previous alpha=4.323e-04, with an active set of 457 regressors.\n",
      "  ConvergenceWarning)\n"
     ]
    },
    {
     "name": "stdout",
     "output_type": "stream",
     "text": [
      "The R-2 for a LASSO Least Angle Regression model with with a Polynomial Order of 3 is 0.25427771363352303.\n",
      " The model with the lowest AIC of 5274.71764747689 has a LASSO alpha of 0.0006451499609383627\n"
     ]
    }
   ],
   "source": [
    "fstat_poly2 = lib.modeling(xstat_train, xstat_test, ystat_train, ystat_test, poly_order=3, lars_ic=True)"
   ]
  },
  {
   "cell_type": "code",
   "execution_count": null,
   "metadata": {},
   "outputs": [],
   "source": [
    "fstat_poly2 = lib.modeling(xstat_train, xstat_test, ystat_train, ystat_test, poly_order=3, lars_ic=True, iterations=1000000)"
   ]
  },
  {
   "cell_type": "code",
   "execution_count": null,
   "metadata": {},
   "outputs": [],
   "source": [
    "fstat_poly2 = lib.modeling(xstat_train, xstat_test, ystat_train, ystat_test, poly_order=2, lars_ic=True, iterations=1000000)"
   ]
  },
  {
   "cell_type": "code",
   "execution_count": null,
   "metadata": {},
   "outputs": [],
   "source": [
    "fstat_poly2"
   ]
  },
  {
   "cell_type": "code",
   "execution_count": 145,
   "metadata": {},
   "outputs": [
    {
     "name": "stderr",
     "output_type": "stream",
     "text": [
      "/Users/flatironschool/anaconda3/envs/learn-env/lib/python3.6/site-packages/sklearn/linear_model/least_angle.py:604: ConvergenceWarning: Early stopping the lars path, as the residues are small and the current value of alpha is no longer well controlled. 696 iterations, alpha=4.358e-04, previous alpha=4.323e-04, with an active set of 457 regressors.\n",
      "  ConvergenceWarning)\n"
     ]
    }
   ],
   "source": [
    "# xstat_train, xstat_test, ystat_train, ystat_test \n",
    "\n",
    "x_train_scaled, x_test_scaled = lib.scale_features(xstat_train, xstat_test)\n",
    "poly = PolynomialFeatures(3)\n",
    "x_poly_train = poly.fit_transform(x_train_scaled)\n",
    "x_poly_test = poly.transform(x_test_scaled)\n",
    "\n",
    "lars_poly = LassoLarsIC(\n",
    "            criterion='aic', \n",
    "            fit_intercept=True, \n",
    "            normalize=False,\n",
    "            max_iter=100000,\n",
    "            \n",
    "        )\n",
    "fit = lars_poly.fit(x_poly_train, ystat_train)\n",
    "score = lars_poly.score(x_poly_test, ystat_test)\n",
    "aic_score = np.mean(lars_poly.criterion_)\n",
    "optimal_alpha = lars_poly.alpha_\n",
    "\n"
   ]
  },
  {
   "cell_type": "code",
   "execution_count": null,
   "metadata": {},
   "outputs": [],
   "source": []
  },
  {
   "cell_type": "code",
   "execution_count": 141,
   "metadata": {},
   "outputs": [
    {
     "data": {
      "text/plain": [
       "{'copy_X': True,\n",
       " 'criterion': 'aic',\n",
       " 'eps': 2.220446049250313e-16,\n",
       " 'fit_intercept': True,\n",
       " 'max_iter': 100000,\n",
       " 'normalize': False,\n",
       " 'positive': False,\n",
       " 'precompute': 'auto',\n",
       " 'verbose': False}"
      ]
     },
     "execution_count": 141,
     "metadata": {},
     "output_type": "execute_result"
    }
   ],
   "source": [
    "lars_poly.get_params(deep=True)\n"
   ]
  },
  {
   "cell_type": "code",
   "execution_count": 142,
   "metadata": {},
   "outputs": [
    {
     "name": "stdout",
     "output_type": "stream",
     "text": [
      "-0.04264788860250631\n",
      "0.026946342644752347\n",
      "0.011652008527129557\n",
      "-0.022644854360293617\n",
      "-0.08283540955241371\n",
      "0.551881428444572\n",
      "-0.06065487509248154\n",
      "0.04231471257168661\n",
      "0.031097582593475268\n",
      "-0.023408353708806767\n",
      "0.020855200025346046\n",
      "0.013621977841457035\n",
      "0.013637029855798725\n",
      "-0.0211673494420998\n",
      "-0.02811563185323467\n",
      "0.015171776208642273\n",
      "0.010216941127772489\n",
      "-0.010603725971151874\n",
      "0.013312723650001133\n",
      "0.012932832065466294\n",
      "0.025347962924061048\n",
      "-0.010790115985510634\n",
      "0.013621159299399475\n",
      "0.18224460856957067\n",
      "-0.014027648288845706\n",
      "-0.3261000798279249\n"
     ]
    }
   ],
   "source": [
    "for x in lars_poly.coef_:\n",
    "    if abs(x)>= 0.01:\n",
    "        print(x)"
   ]
  },
  {
   "cell_type": "code",
   "execution_count": 143,
   "metadata": {},
   "outputs": [
    {
     "data": {
      "text/plain": [
       "array([[1., 0., 2., ..., 0., 0., 0.],\n",
       "       [1., 0., 1., ..., 0., 0., 0.],\n",
       "       [1., 0., 2., ..., 0., 0., 0.],\n",
       "       ...,\n",
       "       [1., 0., 2., ..., 0., 0., 1.],\n",
       "       [1., 0., 4., ..., 0., 0., 0.],\n",
       "       [1., 1., 0., ..., 0., 0., 0.]])"
      ]
     },
     "execution_count": 143,
     "metadata": {},
     "output_type": "execute_result"
    }
   ],
   "source": [
    "x_poly_train"
   ]
  },
  {
   "cell_type": "code",
   "execution_count": 130,
   "metadata": {},
   "outputs": [
    {
     "data": {
      "text/plain": [
       "<matplotlib.legend.Legend at 0x1a296d42e8>"
      ]
     },
     "execution_count": 130,
     "metadata": {},
     "output_type": "execute_result"
    },
    {
     "data": {
      "image/png": "[encoded data removed]",
      "text/plain": [
       "<Figure size 720x720 with 1 Axes>"
      ]
     },
     "metadata": {
      "needs_background": "light"
     },
     "output_type": "display_data"
    }
   ],
   "source": [
    "plt.figure(figsize=(10,10))\n",
    "\n",
    "sns.distplot(lars_poly.predict(x_poly_test), label='Predicted % successful takedowns')\n",
    "sns.distplot(ystat_test, label='Actual % successful takedowns')\n",
    "plt.legend()"
   ]
  },
  {
   "cell_type": "code",
   "execution_count": 131,
   "metadata": {},
   "outputs": [
    {
     "data": {
      "text/plain": [
       "<seaborn.axisgrid.JointGrid at 0x1a245365f8>"
      ]
     },
     "execution_count": 131,
     "metadata": {},
     "output_type": "execute_result"
    },
    {
     "data": {
      "image/png": "[encoded data removed]",
      "text/plain": [
       "<Figure size 432x432 with 3 Axes>"
      ]
     },
     "metadata": {
      "needs_background": "light"
     },
     "output_type": "display_data"
    }
   ],
   "source": [
    "y_hat = lars_poly.predict(x_poly_test)\n",
    "sns.jointplot(\n",
    "    x = ystat_test,\n",
    "    y = y_hat,\n",
    "    kind='kde',\n",
    "    color='#950628',\n",
    "    space=0\n",
    ")\n",
    "\n"
   ]
  },
  {
   "cell_type": "code",
   "execution_count": null,
   "metadata": {},
   "outputs": [],
   "source": []
  },
  {
   "cell_type": "code",
   "execution_count": null,
   "metadata": {},
   "outputs": [],
   "source": []
  },
  {
   "cell_type": "code",
   "execution_count": null,
   "metadata": {},
   "outputs": [],
   "source": []
  },
  {
   "cell_type": "code",
   "execution_count": null,
   "metadata": {},
   "outputs": [],
   "source": []
  },
  {
   "cell_type": "code",
   "execution_count": 117,
   "metadata": {},
   "outputs": [
    {
     "name": "stdout",
     "output_type": "stream",
     "text": [
      "The R-2 for a model with with a Polynomial Order of 1 and a Lasso Alpha of 0 is 0.0808.\n",
      "\n"
     ]
    },
    {
     "name": "stderr",
     "output_type": "stream",
     "text": [
      "/Users/flatironschool/Desktop/Io/mod4proj/UFC-Fight-Duration-Analysis/library.py:57: UserWarning: With alpha=0, this algorithm does not converge well. You are advised to use the LinearRegression estimator\n",
      "  fit = lasso_reg.fit(x_poly_train, y_train)\n",
      "/Users/flatironschool/anaconda3/envs/learn-env/lib/python3.6/site-packages/sklearn/linear_model/coordinate_descent.py:475: UserWarning: Coordinate descent with no regularization may lead to unexpected results and is discouraged.\n",
      "  positive)\n",
      "/Users/flatironschool/anaconda3/envs/learn-env/lib/python3.6/site-packages/sklearn/linear_model/coordinate_descent.py:475: ConvergenceWarning: Objective did not converge. You might want to increase the number of iterations. Duality gap: 154.07349564239715, tolerance: 0.03391151085130912\n",
      "  positive)\n"
     ]
    }
   ],
   "source": [
    "xstat_df = fstat_df[fstat_df.columns[2:26]]\n",
    "ystat_df = fstat_df['avg_TD_pct']\n",
    "xstat_train, xstat_test, ystat_train, ystat_test = train_test_split(xstat_df, ystat_df, test_size=.2, random_state=42)\n",
    "\n",
    "fstat_poly1 = lib.modeling(xstat_train, xstat_test, ystat_train, ystat_test, lasso_alpha=0)"
   ]
  },
  {
   "cell_type": "code",
   "execution_count": 118,
   "metadata": {},
   "outputs": [
    {
     "name": "stderr",
     "output_type": "stream",
     "text": [
      "/Users/flatironschool/Desktop/Io/mod4proj/UFC-Fight-Duration-Analysis/library.py:57: UserWarning: With alpha=0, this algorithm does not converge well. You are advised to use the LinearRegression estimator\n",
      "  fit = lasso_reg.fit(x_poly_train, y_train)\n",
      "/Users/flatironschool/anaconda3/envs/learn-env/lib/python3.6/site-packages/sklearn/linear_model/coordinate_descent.py:475: UserWarning: Coordinate descent with no regularization may lead to unexpected results and is discouraged.\n",
      "  positive)\n"
     ]
    },
    {
     "name": "stdout",
     "output_type": "stream",
     "text": [
      "The R-2 for a model with with a Polynomial Order of 2 and a Lasso Alpha of 0 is 0.1421.\n",
      "\n"
     ]
    },
    {
     "name": "stderr",
     "output_type": "stream",
     "text": [
      "/Users/flatironschool/anaconda3/envs/learn-env/lib/python3.6/site-packages/sklearn/linear_model/coordinate_descent.py:475: ConvergenceWarning: Objective did not converge. You might want to increase the number of iterations. Duality gap: 137.92884576108224, tolerance: 0.03391151085130912\n",
      "  positive)\n"
     ]
    }
   ],
   "source": [
    "fstat_poly2 = lib.modeling(xstat_train, xstat_test, ystat_train, ystat_test, poly_order=2, lasso_alpha=0);"
   ]
  },
  {
   "cell_type": "code",
   "execution_count": 119,
   "metadata": {},
   "outputs": [
    {
     "name": "stdout",
     "output_type": "stream",
     "text": [
      "The R-2 for a LASSO Least Angle Regression model with with a Polynomial Order of 2 is 0.14274850642470138.\n",
      " The model with the lowest AIC of 5470.321445571792 has a LASSO alpha of 0.0006231004435136454\n"
     ]
    }
   ],
   "source": [
    "fstat_poly2 = lib.modeling(xstat_train, xstat_test, ystat_train, ystat_test, poly_order=2, lars_ic=True);"
   ]
  },
  {
   "cell_type": "code",
   "execution_count": 120,
   "metadata": {
    "collapsed": true
   },
   "outputs": [
    {
     "ename": "KeyboardInterrupt",
     "evalue": "",
     "output_type": "error",
     "traceback": [
      "\u001b[0;31m---------------------------------------------------------------------------\u001b[0m",
      "\u001b[0;31mKeyboardInterrupt\u001b[0m                         Traceback (most recent call last)",
      "\u001b[0;32m<ipython-input-120-bd13303c17e8>\u001b[0m in \u001b[0;36m<module>\u001b[0;34m\u001b[0m\n\u001b[0;32m----> 1\u001b[0;31m \u001b[0mfstat_poly2\u001b[0m \u001b[0;34m=\u001b[0m \u001b[0mlib\u001b[0m\u001b[0;34m.\u001b[0m\u001b[0mmodeling\u001b[0m\u001b[0;34m(\u001b[0m\u001b[0mxstat_train\u001b[0m\u001b[0;34m,\u001b[0m \u001b[0mxstat_test\u001b[0m\u001b[0;34m,\u001b[0m \u001b[0mystat_train\u001b[0m\u001b[0;34m,\u001b[0m \u001b[0mystat_test\u001b[0m\u001b[0;34m,\u001b[0m \u001b[0mpoly_order\u001b[0m\u001b[0;34m=\u001b[0m\u001b[0;36m3\u001b[0m\u001b[0;34m,\u001b[0m \u001b[0mlars_ic\u001b[0m\u001b[0;34m=\u001b[0m\u001b[0;32mTrue\u001b[0m\u001b[0;34m)\u001b[0m\u001b[0;34m\u001b[0m\u001b[0;34m\u001b[0m\u001b[0m\n\u001b[0m",
      "\u001b[0;32m~/Desktop/Io/mod4proj/UFC-Fight-Duration-Analysis/library.py\u001b[0m in \u001b[0;36mmodeling\u001b[0;34m(x_train, x_test, y_train, y_test, poly_order, criterion, iterations, lars_ic, lasso_alpha)\u001b[0m\n\u001b[1;32m     38\u001b[0m \u001b[0;34m\u001b[0m\u001b[0m\n\u001b[1;32m     39\u001b[0m         )\n\u001b[0;32m---> 40\u001b[0;31m         \u001b[0mfit\u001b[0m \u001b[0;34m=\u001b[0m \u001b[0mlars_poly\u001b[0m\u001b[0;34m.\u001b[0m\u001b[0mfit\u001b[0m\u001b[0;34m(\u001b[0m\u001b[0mx_poly_train\u001b[0m\u001b[0;34m,\u001b[0m \u001b[0my_train\u001b[0m\u001b[0;34m)\u001b[0m\u001b[0;34m\u001b[0m\u001b[0;34m\u001b[0m\u001b[0m\n\u001b[0m\u001b[1;32m     41\u001b[0m         \u001b[0mscore\u001b[0m \u001b[0;34m=\u001b[0m \u001b[0mlars_poly\u001b[0m\u001b[0;34m.\u001b[0m\u001b[0mscore\u001b[0m\u001b[0;34m(\u001b[0m\u001b[0mx_poly_test\u001b[0m\u001b[0;34m,\u001b[0m \u001b[0my_test\u001b[0m\u001b[0;34m)\u001b[0m\u001b[0;34m\u001b[0m\u001b[0;34m\u001b[0m\u001b[0m\n\u001b[1;32m     42\u001b[0m         \u001b[0maic_score\u001b[0m \u001b[0;34m=\u001b[0m \u001b[0mnp\u001b[0m\u001b[0;34m.\u001b[0m\u001b[0mmean\u001b[0m\u001b[0;34m(\u001b[0m\u001b[0mlars_poly\u001b[0m\u001b[0;34m.\u001b[0m\u001b[0mcriterion_\u001b[0m\u001b[0;34m)\u001b[0m\u001b[0;34m\u001b[0m\u001b[0;34m\u001b[0m\u001b[0m\n",
      "\u001b[0;32m~/anaconda3/envs/learn-env/lib/python3.6/site-packages/sklearn/linear_model/least_angle.py\u001b[0m in \u001b[0;36mfit\u001b[0;34m(self, X, y, copy_X)\u001b[0m\n\u001b[1;32m   1782\u001b[0m             \u001b[0mX\u001b[0m\u001b[0;34m,\u001b[0m \u001b[0my\u001b[0m\u001b[0;34m,\u001b[0m \u001b[0mGram\u001b[0m\u001b[0;34m=\u001b[0m\u001b[0mGram\u001b[0m\u001b[0;34m,\u001b[0m \u001b[0mcopy_X\u001b[0m\u001b[0;34m=\u001b[0m\u001b[0mcopy_X\u001b[0m\u001b[0;34m,\u001b[0m \u001b[0mcopy_Gram\u001b[0m\u001b[0;34m=\u001b[0m\u001b[0;32mTrue\u001b[0m\u001b[0;34m,\u001b[0m \u001b[0malpha_min\u001b[0m\u001b[0;34m=\u001b[0m\u001b[0;36m0.0\u001b[0m\u001b[0;34m,\u001b[0m\u001b[0;34m\u001b[0m\u001b[0;34m\u001b[0m\u001b[0m\n\u001b[1;32m   1783\u001b[0m             \u001b[0mmethod\u001b[0m\u001b[0;34m=\u001b[0m\u001b[0;34m'lasso'\u001b[0m\u001b[0;34m,\u001b[0m \u001b[0mverbose\u001b[0m\u001b[0;34m=\u001b[0m\u001b[0mself\u001b[0m\u001b[0;34m.\u001b[0m\u001b[0mverbose\u001b[0m\u001b[0;34m,\u001b[0m \u001b[0mmax_iter\u001b[0m\u001b[0;34m=\u001b[0m\u001b[0mmax_iter\u001b[0m\u001b[0;34m,\u001b[0m\u001b[0;34m\u001b[0m\u001b[0;34m\u001b[0m\u001b[0m\n\u001b[0;32m-> 1784\u001b[0;31m             eps=self.eps, return_n_iter=True, positive=self.positive)\n\u001b[0m\u001b[1;32m   1785\u001b[0m \u001b[0;34m\u001b[0m\u001b[0m\n\u001b[1;32m   1786\u001b[0m         \u001b[0mn_samples\u001b[0m \u001b[0;34m=\u001b[0m \u001b[0mX\u001b[0m\u001b[0;34m.\u001b[0m\u001b[0mshape\u001b[0m\u001b[0;34m[\u001b[0m\u001b[0;36m0\u001b[0m\u001b[0;34m]\u001b[0m\u001b[0;34m\u001b[0m\u001b[0;34m\u001b[0m\u001b[0m\n",
      "\u001b[0;32m~/anaconda3/envs/learn-env/lib/python3.6/site-packages/sklearn/linear_model/least_angle.py\u001b[0m in \u001b[0;36mlars_path\u001b[0;34m(X, y, Xy, Gram, max_iter, alpha_min, method, copy_X, eps, copy_Gram, verbose, return_path, return_n_iter, positive)\u001b[0m\n\u001b[1;32m    161\u001b[0m         \u001b[0malpha_min\u001b[0m\u001b[0;34m=\u001b[0m\u001b[0malpha_min\u001b[0m\u001b[0;34m,\u001b[0m \u001b[0mmethod\u001b[0m\u001b[0;34m=\u001b[0m\u001b[0mmethod\u001b[0m\u001b[0;34m,\u001b[0m \u001b[0mcopy_X\u001b[0m\u001b[0;34m=\u001b[0m\u001b[0mcopy_X\u001b[0m\u001b[0;34m,\u001b[0m\u001b[0;34m\u001b[0m\u001b[0;34m\u001b[0m\u001b[0m\n\u001b[1;32m    162\u001b[0m         \u001b[0meps\u001b[0m\u001b[0;34m=\u001b[0m\u001b[0meps\u001b[0m\u001b[0;34m,\u001b[0m \u001b[0mcopy_Gram\u001b[0m\u001b[0;34m=\u001b[0m\u001b[0mcopy_Gram\u001b[0m\u001b[0;34m,\u001b[0m \u001b[0mverbose\u001b[0m\u001b[0;34m=\u001b[0m\u001b[0mverbose\u001b[0m\u001b[0;34m,\u001b[0m \u001b[0mreturn_path\u001b[0m\u001b[0;34m=\u001b[0m\u001b[0mreturn_path\u001b[0m\u001b[0;34m,\u001b[0m\u001b[0;34m\u001b[0m\u001b[0;34m\u001b[0m\u001b[0m\n\u001b[0;32m--> 163\u001b[0;31m         return_n_iter=return_n_iter, positive=positive)\n\u001b[0m\u001b[1;32m    164\u001b[0m \u001b[0;34m\u001b[0m\u001b[0m\n\u001b[1;32m    165\u001b[0m \u001b[0;34m\u001b[0m\u001b[0m\n",
      "\u001b[0;32m~/anaconda3/envs/learn-env/lib/python3.6/site-packages/sklearn/linear_model/least_angle.py\u001b[0m in \u001b[0;36m_lars_path_solver\u001b[0;34m(X, y, Xy, Gram, n_samples, max_iter, alpha_min, method, copy_X, eps, copy_Gram, verbose, return_path, return_n_iter, positive)\u001b[0m\n\u001b[1;32m    608\u001b[0m         least_squares, _ = solve_cholesky(L[:n_active, :n_active],\n\u001b[1;32m    609\u001b[0m                                           \u001b[0msign_active\u001b[0m\u001b[0;34m[\u001b[0m\u001b[0;34m:\u001b[0m\u001b[0mn_active\u001b[0m\u001b[0;34m]\u001b[0m\u001b[0;34m,\u001b[0m\u001b[0;34m\u001b[0m\u001b[0;34m\u001b[0m\u001b[0m\n\u001b[0;32m--> 610\u001b[0;31m                                           lower=True)\n\u001b[0m\u001b[1;32m    611\u001b[0m \u001b[0;34m\u001b[0m\u001b[0m\n\u001b[1;32m    612\u001b[0m         \u001b[0;32mif\u001b[0m \u001b[0mleast_squares\u001b[0m\u001b[0;34m.\u001b[0m\u001b[0msize\u001b[0m \u001b[0;34m==\u001b[0m \u001b[0;36m1\u001b[0m \u001b[0;32mand\u001b[0m \u001b[0mleast_squares\u001b[0m \u001b[0;34m==\u001b[0m \u001b[0;36m0\u001b[0m\u001b[0;34m:\u001b[0m\u001b[0;34m\u001b[0m\u001b[0;34m\u001b[0m\u001b[0m\n",
      "\u001b[0;31mKeyboardInterrupt\u001b[0m: "
     ]
    }
   ],
   "source": [
    "fstat_poly2 = lib.modeling(xstat_train, xstat_test, ystat_train, ystat_test, poly_order=3, lars_ic=True)"
   ]
  },
  {
   "cell_type": "code",
   "execution_count": 122,
   "metadata": {},
   "outputs": [],
   "source": [
    "# xstat_train, xstat_test, ystat_train, ystat_test \n",
    "\n",
    "x_train_scaled, x_test_scaled = lib.scale_features(xstat_train, xstat_test)\n",
    "\n",
    "poly = PolynomialFeatures(2)\n",
    "x_poly_train = poly.fit_transform(x_train_scaled)\n",
    "x_poly_test = poly.transform(x_test_scaled)\n",
    "\n",
    "lars_poly = LassoLarsIC(\n",
    "            criterion='aic', \n",
    "            fit_intercept=True, \n",
    "            normalize=False,\n",
    "            max_iter=100000,\n",
    "            \n",
    "        )\n",
    "fit = lars_poly.fit(x_poly_train, ystat_train)\n",
    "score = lars_poly.score(x_poly_test, ystat_test)\n",
    "aic_score = np.mean(lars_poly.criterion_)\n",
    "optimal_alpha = lars_poly.alpha_"
   ]
  },
  {
   "cell_type": "code",
   "execution_count": null,
   "metadata": {},
   "outputs": [],
   "source": []
  },
  {
   "cell_type": "code",
   "execution_count": null,
   "metadata": {},
   "outputs": [],
   "source": []
  },
  {
   "cell_type": "code",
   "execution_count": 112,
   "metadata": {},
   "outputs": [
    {
     "ename": "KeyError",
     "evalue": "'avg_TOTAL_STR_landed_pct'",
     "output_type": "error",
     "traceback": [
      "\u001b[0;31m---------------------------------------------------------------------------\u001b[0m",
      "\u001b[0;31mKeyError\u001b[0m                                  Traceback (most recent call last)",
      "\u001b[0;32m~/anaconda3/envs/learn-env/lib/python3.6/site-packages/pandas/core/indexes/base.py\u001b[0m in \u001b[0;36mget_loc\u001b[0;34m(self, key, method, tolerance)\u001b[0m\n\u001b[1;32m   2896\u001b[0m             \u001b[0;32mtry\u001b[0m\u001b[0;34m:\u001b[0m\u001b[0;34m\u001b[0m\u001b[0;34m\u001b[0m\u001b[0m\n\u001b[0;32m-> 2897\u001b[0;31m                 \u001b[0;32mreturn\u001b[0m \u001b[0mself\u001b[0m\u001b[0;34m.\u001b[0m\u001b[0m_engine\u001b[0m\u001b[0;34m.\u001b[0m\u001b[0mget_loc\u001b[0m\u001b[0;34m(\u001b[0m\u001b[0mkey\u001b[0m\u001b[0;34m)\u001b[0m\u001b[0;34m\u001b[0m\u001b[0;34m\u001b[0m\u001b[0m\n\u001b[0m\u001b[1;32m   2898\u001b[0m             \u001b[0;32mexcept\u001b[0m \u001b[0mKeyError\u001b[0m\u001b[0;34m:\u001b[0m\u001b[0;34m\u001b[0m\u001b[0;34m\u001b[0m\u001b[0m\n",
      "\u001b[0;32mpandas/_libs/index.pyx\u001b[0m in \u001b[0;36mpandas._libs.index.IndexEngine.get_loc\u001b[0;34m()\u001b[0m\n",
      "\u001b[0;32mpandas/_libs/index.pyx\u001b[0m in \u001b[0;36mpandas._libs.index.IndexEngine.get_loc\u001b[0;34m()\u001b[0m\n",
      "\u001b[0;32mpandas/_libs/hashtable_class_helper.pxi\u001b[0m in \u001b[0;36mpandas._libs.hashtable.PyObjectHashTable.get_item\u001b[0;34m()\u001b[0m\n",
      "\u001b[0;32mpandas/_libs/hashtable_class_helper.pxi\u001b[0m in \u001b[0;36mpandas._libs.hashtable.PyObjectHashTable.get_item\u001b[0;34m()\u001b[0m\n",
      "\u001b[0;31mKeyError\u001b[0m: 'avg_TOTAL_STR_landed_pct'",
      "\nDuring handling of the above exception, another exception occurred:\n",
      "\u001b[0;31mKeyError\u001b[0m                                  Traceback (most recent call last)",
      "\u001b[0;32m<ipython-input-112-f626fa14d556>\u001b[0m in \u001b[0;36m<module>\u001b[0;34m\u001b[0m\n\u001b[1;32m      1\u001b[0m \u001b[0mxstat_df\u001b[0m \u001b[0;34m=\u001b[0m \u001b[0mfstat_df\u001b[0m\u001b[0;34m[\u001b[0m\u001b[0mfstat_df\u001b[0m\u001b[0;34m.\u001b[0m\u001b[0mcolumns\u001b[0m\u001b[0;34m[\u001b[0m\u001b[0;36m2\u001b[0m\u001b[0;34m:\u001b[0m\u001b[0;36m26\u001b[0m\u001b[0;34m]\u001b[0m\u001b[0;34m]\u001b[0m\u001b[0;34m\u001b[0m\u001b[0;34m\u001b[0m\u001b[0m\n\u001b[0;32m----> 2\u001b[0;31m \u001b[0mystat_df\u001b[0m \u001b[0;34m=\u001b[0m \u001b[0mfstat_df\u001b[0m\u001b[0;34m[\u001b[0m\u001b[0;34m'avg_TOTAL_STR_landed_pct'\u001b[0m\u001b[0;34m]\u001b[0m\u001b[0;34m\u001b[0m\u001b[0;34m\u001b[0m\u001b[0m\n\u001b[0m\u001b[1;32m      3\u001b[0m \u001b[0mxstat_train\u001b[0m\u001b[0;34m,\u001b[0m \u001b[0mxstat_test\u001b[0m\u001b[0;34m,\u001b[0m \u001b[0mystat_train\u001b[0m\u001b[0;34m,\u001b[0m \u001b[0mystat_test\u001b[0m \u001b[0;34m=\u001b[0m \u001b[0mtrain_test_split\u001b[0m\u001b[0;34m(\u001b[0m\u001b[0mxstat_df\u001b[0m\u001b[0;34m,\u001b[0m \u001b[0mystat_df\u001b[0m\u001b[0;34m,\u001b[0m \u001b[0mtest_size\u001b[0m\u001b[0;34m=\u001b[0m\u001b[0;36m.2\u001b[0m\u001b[0;34m,\u001b[0m \u001b[0mrandom_state\u001b[0m\u001b[0;34m=\u001b[0m\u001b[0;36m42\u001b[0m\u001b[0;34m)\u001b[0m\u001b[0;34m\u001b[0m\u001b[0;34m\u001b[0m\u001b[0m\n\u001b[1;32m      4\u001b[0m \u001b[0;34m\u001b[0m\u001b[0m\n\u001b[1;32m      5\u001b[0m \u001b[0mfstat_poly1_STRpct\u001b[0m \u001b[0;34m=\u001b[0m \u001b[0mlib\u001b[0m\u001b[0;34m.\u001b[0m\u001b[0mmodeling\u001b[0m\u001b[0;34m(\u001b[0m\u001b[0mxstat_train\u001b[0m\u001b[0;34m,\u001b[0m \u001b[0mxstat_test\u001b[0m\u001b[0;34m,\u001b[0m \u001b[0mystat_train\u001b[0m\u001b[0;34m,\u001b[0m \u001b[0mystat_test\u001b[0m\u001b[0;34m,\u001b[0m \u001b[0mlasso_alpha\u001b[0m\u001b[0;34m=\u001b[0m\u001b[0;36m0\u001b[0m\u001b[0;34m)\u001b[0m\u001b[0;34m\u001b[0m\u001b[0;34m\u001b[0m\u001b[0m\n",
      "\u001b[0;32m~/anaconda3/envs/learn-env/lib/python3.6/site-packages/pandas/core/frame.py\u001b[0m in \u001b[0;36m__getitem__\u001b[0;34m(self, key)\u001b[0m\n\u001b[1;32m   2978\u001b[0m             \u001b[0;32mif\u001b[0m \u001b[0mself\u001b[0m\u001b[0;34m.\u001b[0m\u001b[0mcolumns\u001b[0m\u001b[0;34m.\u001b[0m\u001b[0mnlevels\u001b[0m \u001b[0;34m>\u001b[0m \u001b[0;36m1\u001b[0m\u001b[0;34m:\u001b[0m\u001b[0;34m\u001b[0m\u001b[0;34m\u001b[0m\u001b[0m\n\u001b[1;32m   2979\u001b[0m                 \u001b[0;32mreturn\u001b[0m \u001b[0mself\u001b[0m\u001b[0;34m.\u001b[0m\u001b[0m_getitem_multilevel\u001b[0m\u001b[0;34m(\u001b[0m\u001b[0mkey\u001b[0m\u001b[0;34m)\u001b[0m\u001b[0;34m\u001b[0m\u001b[0;34m\u001b[0m\u001b[0m\n\u001b[0;32m-> 2980\u001b[0;31m             \u001b[0mindexer\u001b[0m \u001b[0;34m=\u001b[0m \u001b[0mself\u001b[0m\u001b[0;34m.\u001b[0m\u001b[0mcolumns\u001b[0m\u001b[0;34m.\u001b[0m\u001b[0mget_loc\u001b[0m\u001b[0;34m(\u001b[0m\u001b[0mkey\u001b[0m\u001b[0;34m)\u001b[0m\u001b[0;34m\u001b[0m\u001b[0;34m\u001b[0m\u001b[0m\n\u001b[0m\u001b[1;32m   2981\u001b[0m             \u001b[0;32mif\u001b[0m \u001b[0mis_integer\u001b[0m\u001b[0;34m(\u001b[0m\u001b[0mindexer\u001b[0m\u001b[0;34m)\u001b[0m\u001b[0;34m:\u001b[0m\u001b[0;34m\u001b[0m\u001b[0;34m\u001b[0m\u001b[0m\n\u001b[1;32m   2982\u001b[0m                 \u001b[0mindexer\u001b[0m \u001b[0;34m=\u001b[0m \u001b[0;34m[\u001b[0m\u001b[0mindexer\u001b[0m\u001b[0;34m]\u001b[0m\u001b[0;34m\u001b[0m\u001b[0;34m\u001b[0m\u001b[0m\n",
      "\u001b[0;32m~/anaconda3/envs/learn-env/lib/python3.6/site-packages/pandas/core/indexes/base.py\u001b[0m in \u001b[0;36mget_loc\u001b[0;34m(self, key, method, tolerance)\u001b[0m\n\u001b[1;32m   2897\u001b[0m                 \u001b[0;32mreturn\u001b[0m \u001b[0mself\u001b[0m\u001b[0;34m.\u001b[0m\u001b[0m_engine\u001b[0m\u001b[0;34m.\u001b[0m\u001b[0mget_loc\u001b[0m\u001b[0;34m(\u001b[0m\u001b[0mkey\u001b[0m\u001b[0;34m)\u001b[0m\u001b[0;34m\u001b[0m\u001b[0;34m\u001b[0m\u001b[0m\n\u001b[1;32m   2898\u001b[0m             \u001b[0;32mexcept\u001b[0m \u001b[0mKeyError\u001b[0m\u001b[0;34m:\u001b[0m\u001b[0;34m\u001b[0m\u001b[0;34m\u001b[0m\u001b[0m\n\u001b[0;32m-> 2899\u001b[0;31m                 \u001b[0;32mreturn\u001b[0m \u001b[0mself\u001b[0m\u001b[0;34m.\u001b[0m\u001b[0m_engine\u001b[0m\u001b[0;34m.\u001b[0m\u001b[0mget_loc\u001b[0m\u001b[0;34m(\u001b[0m\u001b[0mself\u001b[0m\u001b[0;34m.\u001b[0m\u001b[0m_maybe_cast_indexer\u001b[0m\u001b[0;34m(\u001b[0m\u001b[0mkey\u001b[0m\u001b[0;34m)\u001b[0m\u001b[0;34m)\u001b[0m\u001b[0;34m\u001b[0m\u001b[0;34m\u001b[0m\u001b[0m\n\u001b[0m\u001b[1;32m   2900\u001b[0m         \u001b[0mindexer\u001b[0m \u001b[0;34m=\u001b[0m \u001b[0mself\u001b[0m\u001b[0;34m.\u001b[0m\u001b[0mget_indexer\u001b[0m\u001b[0;34m(\u001b[0m\u001b[0;34m[\u001b[0m\u001b[0mkey\u001b[0m\u001b[0;34m]\u001b[0m\u001b[0;34m,\u001b[0m \u001b[0mmethod\u001b[0m\u001b[0;34m=\u001b[0m\u001b[0mmethod\u001b[0m\u001b[0;34m,\u001b[0m \u001b[0mtolerance\u001b[0m\u001b[0;34m=\u001b[0m\u001b[0mtolerance\u001b[0m\u001b[0;34m)\u001b[0m\u001b[0;34m\u001b[0m\u001b[0;34m\u001b[0m\u001b[0m\n\u001b[1;32m   2901\u001b[0m         \u001b[0;32mif\u001b[0m \u001b[0mindexer\u001b[0m\u001b[0;34m.\u001b[0m\u001b[0mndim\u001b[0m \u001b[0;34m>\u001b[0m \u001b[0;36m1\u001b[0m \u001b[0;32mor\u001b[0m \u001b[0mindexer\u001b[0m\u001b[0;34m.\u001b[0m\u001b[0msize\u001b[0m \u001b[0;34m>\u001b[0m \u001b[0;36m1\u001b[0m\u001b[0;34m:\u001b[0m\u001b[0;34m\u001b[0m\u001b[0;34m\u001b[0m\u001b[0m\n",
      "\u001b[0;32mpandas/_libs/index.pyx\u001b[0m in \u001b[0;36mpandas._libs.index.IndexEngine.get_loc\u001b[0;34m()\u001b[0m\n",
      "\u001b[0;32mpandas/_libs/index.pyx\u001b[0m in \u001b[0;36mpandas._libs.index.IndexEngine.get_loc\u001b[0;34m()\u001b[0m\n",
      "\u001b[0;32mpandas/_libs/hashtable_class_helper.pxi\u001b[0m in \u001b[0;36mpandas._libs.hashtable.PyObjectHashTable.get_item\u001b[0;34m()\u001b[0m\n",
      "\u001b[0;32mpandas/_libs/hashtable_class_helper.pxi\u001b[0m in \u001b[0;36mpandas._libs.hashtable.PyObjectHashTable.get_item\u001b[0;34m()\u001b[0m\n",
      "\u001b[0;31mKeyError\u001b[0m: 'avg_TOTAL_STR_landed_pct'"
     ]
    }
   ],
   "source": [
    "xstat_df = fstat_df[fstat_df.columns[2:26]]\n",
    "ystat_df = fstat_df['avg_TOTAL_STR_landed_pct']\n",
    "xstat_train, xstat_test, ystat_train, ystat_test = train_test_split(xstat_df, ystat_df, test_size=.2, random_state=42)\n",
    "\n",
    "fstat_poly1_STRpct = lib.modeling(xstat_train, xstat_test, ystat_train, ystat_test, lasso_alpha=0)"
   ]
  },
  {
   "cell_type": "code",
   "execution_count": 113,
   "metadata": {},
   "outputs": [
    {
     "name": "stderr",
     "output_type": "stream",
     "text": [
      "/Users/flatironschool/Desktop/Io/mod4proj/UFC-Fight-Duration-Analysis/library.py:57: UserWarning: With alpha=0, this algorithm does not converge well. You are advised to use the LinearRegression estimator\n",
      "  fit = lasso_reg.fit(x_poly_train, y_train)\n",
      "/Users/flatironschool/anaconda3/envs/learn-env/lib/python3.6/site-packages/sklearn/linear_model/coordinate_descent.py:475: UserWarning: Coordinate descent with no regularization may lead to unexpected results and is discouraged.\n",
      "  positive)\n"
     ]
    },
    {
     "name": "stdout",
     "output_type": "stream",
     "text": [
      "The R-2 for a model with with a Polynomial Order of 2 and a Lasso Alpha of 0 is 0.2111.\n",
      "\n"
     ]
    },
    {
     "name": "stderr",
     "output_type": "stream",
     "text": [
      "/Users/flatironschool/anaconda3/envs/learn-env/lib/python3.6/site-packages/sklearn/linear_model/coordinate_descent.py:475: ConvergenceWarning: Objective did not converge. You might want to increase the number of iterations. Duality gap: 21.489473146319867, tolerance: 0.005550102393696854\n",
      "  positive)\n"
     ]
    }
   ],
   "source": [
    "fstat_poly2_STRpct = lib.modeling(xstat_train, xstat_test, ystat_train, ystat_test,poly_order=2, lasso_alpha=0)"
   ]
  },
  {
   "cell_type": "code",
   "execution_count": 114,
   "metadata": {},
   "outputs": [
    {
     "name": "stdout",
     "output_type": "stream",
     "text": [
      "The R-2 for a LASSO Least Angle Regression model with with a Polynomial Order of 2 is 0.2063218855577036.\n",
      " The model with the lowest AIC of 5242.019930480519 has a LASSO alpha of 0.00017961761388468484\n"
     ]
    }
   ],
   "source": [
    "fstat_poly2_lars_STRpct = lib.modeling(xstat_train, xstat_test, ystat_train, ystat_test,poly_order=2, lars_ic=True)"
   ]
  },
  {
   "cell_type": "code",
   "execution_count": 115,
   "metadata": {},
   "outputs": [
    {
     "name": "stderr",
     "output_type": "stream",
     "text": [
      "/Users/flatironschool/anaconda3/envs/learn-env/lib/python3.6/site-packages/sklearn/linear_model/least_angle.py:604: ConvergenceWarning: Early stopping the lars path, as the residues are small and the current value of alpha is no longer well controlled. 696 iterations, alpha=4.358e-04, previous alpha=4.323e-04, with an active set of 457 regressors.\n",
      "  ConvergenceWarning)\n"
     ]
    },
    {
     "name": "stdout",
     "output_type": "stream",
     "text": [
      "The R-2 for a LASSO Least Angle Regression model with with a Polynomial Order of 3 is 0.25427771363352303.\n",
      " The model with the lowest AIC of 5274.71764747689 has a LASSO alpha of 0.0006451499609383627\n"
     ]
    }
   ],
   "source": [
    "fstat_poly3_lars_STRpct = lib.modeling(xstat_train, xstat_test, ystat_train, ystat_test,poly_order=3, lars_ic=True)"
   ]
  },
  {
   "cell_type": "code",
   "execution_count": 116,
   "metadata": {},
   "outputs": [
    {
     "ename": "KeyboardInterrupt",
     "evalue": "",
     "output_type": "error",
     "traceback": [
      "\u001b[0;31m---------------------------------------------------------------------------\u001b[0m",
      "\u001b[0;31mKeyboardInterrupt\u001b[0m                         Traceback (most recent call last)",
      "\u001b[0;32m<ipython-input-116-b163283403b1>\u001b[0m in \u001b[0;36m<module>\u001b[0;34m\u001b[0m\n\u001b[0;32m----> 1\u001b[0;31m \u001b[0mfstat_poly3_STRpct\u001b[0m \u001b[0;34m=\u001b[0m \u001b[0mlib\u001b[0m\u001b[0;34m.\u001b[0m\u001b[0mmodeling\u001b[0m\u001b[0;34m(\u001b[0m\u001b[0mxstat_train\u001b[0m\u001b[0;34m,\u001b[0m \u001b[0mxstat_test\u001b[0m\u001b[0;34m,\u001b[0m \u001b[0mystat_train\u001b[0m\u001b[0;34m,\u001b[0m \u001b[0mystat_test\u001b[0m\u001b[0;34m,\u001b[0m\u001b[0mpoly_order\u001b[0m\u001b[0;34m=\u001b[0m\u001b[0;36m3\u001b[0m\u001b[0;34m,\u001b[0m \u001b[0mlasso_alpha\u001b[0m\u001b[0;34m=\u001b[0m\u001b[0;36m0\u001b[0m\u001b[0;34m,\u001b[0m \u001b[0mlars_ic\u001b[0m\u001b[0;34m=\u001b[0m\u001b[0;32mTrue\u001b[0m\u001b[0;34m,\u001b[0m \u001b[0miterations\u001b[0m\u001b[0;34m=\u001b[0m\u001b[0;36m1000000\u001b[0m\u001b[0;34m)\u001b[0m\u001b[0;34m\u001b[0m\u001b[0;34m\u001b[0m\u001b[0m\n\u001b[0m",
      "\u001b[0;32m~/Desktop/Io/mod4proj/UFC-Fight-Duration-Analysis/library.py\u001b[0m in \u001b[0;36mmodeling\u001b[0;34m(x_train, x_test, y_train, y_test, poly_order, criterion, iterations, lars_ic, lasso_alpha)\u001b[0m\n\u001b[1;32m     38\u001b[0m \u001b[0;34m\u001b[0m\u001b[0m\n\u001b[1;32m     39\u001b[0m         )\n\u001b[0;32m---> 40\u001b[0;31m         \u001b[0mfit\u001b[0m \u001b[0;34m=\u001b[0m \u001b[0mlars_poly\u001b[0m\u001b[0;34m.\u001b[0m\u001b[0mfit\u001b[0m\u001b[0;34m(\u001b[0m\u001b[0mx_poly_train\u001b[0m\u001b[0;34m,\u001b[0m \u001b[0my_train\u001b[0m\u001b[0;34m)\u001b[0m\u001b[0;34m\u001b[0m\u001b[0;34m\u001b[0m\u001b[0m\n\u001b[0m\u001b[1;32m     41\u001b[0m         \u001b[0mscore\u001b[0m \u001b[0;34m=\u001b[0m \u001b[0mlars_poly\u001b[0m\u001b[0;34m.\u001b[0m\u001b[0mscore\u001b[0m\u001b[0;34m(\u001b[0m\u001b[0mx_poly_test\u001b[0m\u001b[0;34m,\u001b[0m \u001b[0my_test\u001b[0m\u001b[0;34m)\u001b[0m\u001b[0;34m\u001b[0m\u001b[0;34m\u001b[0m\u001b[0m\n\u001b[1;32m     42\u001b[0m         \u001b[0maic_score\u001b[0m \u001b[0;34m=\u001b[0m \u001b[0mnp\u001b[0m\u001b[0;34m.\u001b[0m\u001b[0mmean\u001b[0m\u001b[0;34m(\u001b[0m\u001b[0mlars_poly\u001b[0m\u001b[0;34m.\u001b[0m\u001b[0mcriterion_\u001b[0m\u001b[0;34m)\u001b[0m\u001b[0;34m\u001b[0m\u001b[0;34m\u001b[0m\u001b[0m\n",
      "\u001b[0;32m~/anaconda3/envs/learn-env/lib/python3.6/site-packages/sklearn/linear_model/least_angle.py\u001b[0m in \u001b[0;36mfit\u001b[0;34m(self, X, y, copy_X)\u001b[0m\n\u001b[1;32m   1782\u001b[0m             \u001b[0mX\u001b[0m\u001b[0;34m,\u001b[0m \u001b[0my\u001b[0m\u001b[0;34m,\u001b[0m \u001b[0mGram\u001b[0m\u001b[0;34m=\u001b[0m\u001b[0mGram\u001b[0m\u001b[0;34m,\u001b[0m \u001b[0mcopy_X\u001b[0m\u001b[0;34m=\u001b[0m\u001b[0mcopy_X\u001b[0m\u001b[0;34m,\u001b[0m \u001b[0mcopy_Gram\u001b[0m\u001b[0;34m=\u001b[0m\u001b[0;32mTrue\u001b[0m\u001b[0;34m,\u001b[0m \u001b[0malpha_min\u001b[0m\u001b[0;34m=\u001b[0m\u001b[0;36m0.0\u001b[0m\u001b[0;34m,\u001b[0m\u001b[0;34m\u001b[0m\u001b[0;34m\u001b[0m\u001b[0m\n\u001b[1;32m   1783\u001b[0m             \u001b[0mmethod\u001b[0m\u001b[0;34m=\u001b[0m\u001b[0;34m'lasso'\u001b[0m\u001b[0;34m,\u001b[0m \u001b[0mverbose\u001b[0m\u001b[0;34m=\u001b[0m\u001b[0mself\u001b[0m\u001b[0;34m.\u001b[0m\u001b[0mverbose\u001b[0m\u001b[0;34m,\u001b[0m \u001b[0mmax_iter\u001b[0m\u001b[0;34m=\u001b[0m\u001b[0mmax_iter\u001b[0m\u001b[0;34m,\u001b[0m\u001b[0;34m\u001b[0m\u001b[0;34m\u001b[0m\u001b[0m\n\u001b[0;32m-> 1784\u001b[0;31m             eps=self.eps, return_n_iter=True, positive=self.positive)\n\u001b[0m\u001b[1;32m   1785\u001b[0m \u001b[0;34m\u001b[0m\u001b[0m\n\u001b[1;32m   1786\u001b[0m         \u001b[0mn_samples\u001b[0m \u001b[0;34m=\u001b[0m \u001b[0mX\u001b[0m\u001b[0;34m.\u001b[0m\u001b[0mshape\u001b[0m\u001b[0;34m[\u001b[0m\u001b[0;36m0\u001b[0m\u001b[0;34m]\u001b[0m\u001b[0;34m\u001b[0m\u001b[0;34m\u001b[0m\u001b[0m\n",
      "\u001b[0;32m~/anaconda3/envs/learn-env/lib/python3.6/site-packages/sklearn/linear_model/least_angle.py\u001b[0m in \u001b[0;36mlars_path\u001b[0;34m(X, y, Xy, Gram, max_iter, alpha_min, method, copy_X, eps, copy_Gram, verbose, return_path, return_n_iter, positive)\u001b[0m\n\u001b[1;32m    161\u001b[0m         \u001b[0malpha_min\u001b[0m\u001b[0;34m=\u001b[0m\u001b[0malpha_min\u001b[0m\u001b[0;34m,\u001b[0m \u001b[0mmethod\u001b[0m\u001b[0;34m=\u001b[0m\u001b[0mmethod\u001b[0m\u001b[0;34m,\u001b[0m \u001b[0mcopy_X\u001b[0m\u001b[0;34m=\u001b[0m\u001b[0mcopy_X\u001b[0m\u001b[0;34m,\u001b[0m\u001b[0;34m\u001b[0m\u001b[0;34m\u001b[0m\u001b[0m\n\u001b[1;32m    162\u001b[0m         \u001b[0meps\u001b[0m\u001b[0;34m=\u001b[0m\u001b[0meps\u001b[0m\u001b[0;34m,\u001b[0m \u001b[0mcopy_Gram\u001b[0m\u001b[0;34m=\u001b[0m\u001b[0mcopy_Gram\u001b[0m\u001b[0;34m,\u001b[0m \u001b[0mverbose\u001b[0m\u001b[0;34m=\u001b[0m\u001b[0mverbose\u001b[0m\u001b[0;34m,\u001b[0m \u001b[0mreturn_path\u001b[0m\u001b[0;34m=\u001b[0m\u001b[0mreturn_path\u001b[0m\u001b[0;34m,\u001b[0m\u001b[0;34m\u001b[0m\u001b[0;34m\u001b[0m\u001b[0m\n\u001b[0;32m--> 163\u001b[0;31m         return_n_iter=return_n_iter, positive=positive)\n\u001b[0m\u001b[1;32m    164\u001b[0m \u001b[0;34m\u001b[0m\u001b[0m\n\u001b[1;32m    165\u001b[0m \u001b[0;34m\u001b[0m\u001b[0m\n",
      "\u001b[0;32m~/anaconda3/envs/learn-env/lib/python3.6/site-packages/sklearn/linear_model/least_angle.py\u001b[0m in \u001b[0;36m_lars_path_solver\u001b[0;34m(X, y, Xy, Gram, n_samples, max_iter, alpha_min, method, copy_X, eps, copy_Gram, verbose, return_path, return_n_iter, positive)\u001b[0m\n\u001b[1;32m    643\u001b[0m             \u001b[0;31m# orthogonal (QR) decomposition of X\u001b[0m\u001b[0;34m\u001b[0m\u001b[0;34m\u001b[0m\u001b[0;34m\u001b[0m\u001b[0m\n\u001b[1;32m    644\u001b[0m             corr_eq_dir = np.dot(Gram[:n_active, n_active:].T,\n\u001b[0;32m--> 645\u001b[0;31m                                  least_squares)\n\u001b[0m\u001b[1;32m    646\u001b[0m \u001b[0;34m\u001b[0m\u001b[0m\n\u001b[1;32m    647\u001b[0m         \u001b[0mg1\u001b[0m \u001b[0;34m=\u001b[0m \u001b[0marrayfuncs\u001b[0m\u001b[0;34m.\u001b[0m\u001b[0mmin_pos\u001b[0m\u001b[0;34m(\u001b[0m\u001b[0;34m(\u001b[0m\u001b[0mC\u001b[0m \u001b[0;34m-\u001b[0m \u001b[0mCov\u001b[0m\u001b[0;34m)\u001b[0m \u001b[0;34m/\u001b[0m \u001b[0;34m(\u001b[0m\u001b[0mAA\u001b[0m \u001b[0;34m-\u001b[0m \u001b[0mcorr_eq_dir\u001b[0m \u001b[0;34m+\u001b[0m \u001b[0mtiny32\u001b[0m\u001b[0;34m)\u001b[0m\u001b[0;34m)\u001b[0m\u001b[0;34m\u001b[0m\u001b[0;34m\u001b[0m\u001b[0m\n",
      "\u001b[0;31mKeyboardInterrupt\u001b[0m: "
     ]
    }
   ],
   "source": [
    "fstat_poly3_STRpct = lib.modeling(xstat_train, xstat_test, ystat_train, ystat_test,poly_order=3, lasso_alpha=0, lars_ic=True, iterations=1000000)"
   ]
  },
  {
   "cell_type": "code",
   "execution_count": null,
   "metadata": {},
   "outputs": [],
   "source": [
    "fstat_poly1_STRpct.predict"
   ]
  },
  {
   "cell_type": "code",
   "execution_count": null,
   "metadata": {},
   "outputs": [],
   "source": [
    "\n",
    "      "
   ]
  },
  {
   "cell_type": "code",
   "execution_count": null,
   "metadata": {},
   "outputs": [],
   "source": []
  },
  {
   "cell_type": "code",
   "execution_count": null,
   "metadata": {},
   "outputs": [],
   "source": [
    "# we need to do feature selection based on our models, then do some plots as well\n",
    "\n"
   ]
  }
 ],
 "metadata": {
  "kernelspec": {
   "display_name": "learn-env",
   "language": "python",
   "name": "learn-env"
  },
  "language_info": {
   "codemirror_mode": {
    "name": "ipython",
    "version": 3
   },
   "file_extension": ".py",
   "mimetype": "text/x-python",
   "name": "python",
   "nbconvert_exporter": "python",
   "pygments_lexer": "ipython3",
   "version": "3.6.9"
  }
 },
 "nbformat": 4,
 "nbformat_minor": 2
}
